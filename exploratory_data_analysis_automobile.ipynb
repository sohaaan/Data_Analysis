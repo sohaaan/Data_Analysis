{
  "nbformat": 4,
  "nbformat_minor": 0,
  "metadata": {
    "anaconda-cloud": {},
    "kernelspec": {
      "display_name": "Python",
      "language": "python",
      "name": "conda-env-python-py"
    },
    "language_info": {
      "codemirror_mode": {
        "name": "ipython",
        "version": 3
      },
      "file_extension": ".py",
      "mimetype": "text/x-python",
      "name": "python",
      "nbconvert_exporter": "python",
      "pygments_lexer": "ipython3",
      "version": "3.6.13"
    },
    "colab": {
      "name": "exploratory_data_analysis_automobile.ipynb",
      "provenance": [],
      "collapsed_sections": [],
      "include_colab_link": true
    }
  },
  "cells": [
    {
      "cell_type": "markdown",
      "metadata": {
        "id": "view-in-github",
        "colab_type": "text"
      },
      "source": [
        "<a href=\"https://colab.research.google.com/github/sohaaan/data_analysis/blob/master/exploratory_data_analysis_automobile.ipynb\" target=\"_parent\"><img src=\"https://colab.research.google.com/assets/colab-badge.svg\" alt=\"Open In Colab\"/></a>"
      ]
    },
    {
      "cell_type": "markdown",
      "metadata": {
        "id": "fE952fA6p5sX"
      },
      "source": [
        "<h2>Table of Contents</h2>\n",
        "\n",
        "<div class=\"alert alert-block alert-info\" style=\"margin-top: 20px\">\n",
        "<ol>\n",
        "    <li><a href=\"#import_data\">Import Data from Module</a></li>\n",
        "    <li><a href=\"#pattern_visualization\">Analyzing Individual Feature Patterns using Visualization</a></li>\n",
        "    <li><a href=\"#discriptive_statistics\">Descriptive Statistical Analysis</a></li>\n",
        "    <li><a href=\"#basic_grouping\">Basics of Grouping</a></li>\n",
        "    <li><a href=\"#correlation_causation\">Correlation and Causation</a></li>\n",
        "    <li><a href=\"#anova\">ANOVA</a></li>\n",
        "</ol>\n",
        "\n",
        "</div>\n",
        "\n",
        "<hr>\n"
      ]
    },
    {
      "cell_type": "markdown",
      "metadata": {
        "id": "pEKSMOCyp5sY"
      },
      "source": [
        "<h3>What are the main characteristics that have the most impact on the car price?</h3>\n"
      ]
    },
    {
      "cell_type": "markdown",
      "metadata": {
        "id": "SG4-iOHdp5sZ"
      },
      "source": [
        "<h2 id=\"import_data\">1. Import Data from Module 2</h2>\n"
      ]
    },
    {
      "cell_type": "markdown",
      "metadata": {
        "id": "Ou9YALPcp5sZ"
      },
      "source": [
        "Import libraries:\n"
      ]
    },
    {
      "cell_type": "code",
      "metadata": {
        "id": "ZG-n79V7p5sa"
      },
      "source": [
        "import pandas as pd\n",
        "import numpy as np"
      ],
      "execution_count": 2,
      "outputs": []
    },
    {
      "cell_type": "code",
      "metadata": {
        "id": "-Gr5gz1Pp5sd",
        "colab": {
          "base_uri": "https://localhost:8080/",
          "height": 309
        },
        "outputId": "aa427c23-246c-401b-aedd-24286df76823"
      },
      "source": [
        "path='https://cf-courses-data.s3.us.cloud-object-storage.appdomain.cloud/IBMDeveloperSkillsNetwork-DA0101EN-SkillsNetwork/labs/Data%20files/automobileEDA.csv'\n",
        "df = pd.read_csv(path)\n",
        "df.head()"
      ],
      "execution_count": 3,
      "outputs": [
        {
          "output_type": "execute_result",
          "data": {
            "text/html": [
              "<div>\n",
              "<style scoped>\n",
              "    .dataframe tbody tr th:only-of-type {\n",
              "        vertical-align: middle;\n",
              "    }\n",
              "\n",
              "    .dataframe tbody tr th {\n",
              "        vertical-align: top;\n",
              "    }\n",
              "\n",
              "    .dataframe thead th {\n",
              "        text-align: right;\n",
              "    }\n",
              "</style>\n",
              "<table border=\"1\" class=\"dataframe\">\n",
              "  <thead>\n",
              "    <tr style=\"text-align: right;\">\n",
              "      <th></th>\n",
              "      <th>symboling</th>\n",
              "      <th>normalized-losses</th>\n",
              "      <th>make</th>\n",
              "      <th>aspiration</th>\n",
              "      <th>num-of-doors</th>\n",
              "      <th>body-style</th>\n",
              "      <th>drive-wheels</th>\n",
              "      <th>engine-location</th>\n",
              "      <th>wheel-base</th>\n",
              "      <th>length</th>\n",
              "      <th>width</th>\n",
              "      <th>height</th>\n",
              "      <th>curb-weight</th>\n",
              "      <th>engine-type</th>\n",
              "      <th>num-of-cylinders</th>\n",
              "      <th>engine-size</th>\n",
              "      <th>fuel-system</th>\n",
              "      <th>bore</th>\n",
              "      <th>stroke</th>\n",
              "      <th>compression-ratio</th>\n",
              "      <th>horsepower</th>\n",
              "      <th>peak-rpm</th>\n",
              "      <th>city-mpg</th>\n",
              "      <th>highway-mpg</th>\n",
              "      <th>price</th>\n",
              "      <th>city-L/100km</th>\n",
              "      <th>horsepower-binned</th>\n",
              "      <th>diesel</th>\n",
              "      <th>gas</th>\n",
              "    </tr>\n",
              "  </thead>\n",
              "  <tbody>\n",
              "    <tr>\n",
              "      <th>0</th>\n",
              "      <td>3</td>\n",
              "      <td>122</td>\n",
              "      <td>alfa-romero</td>\n",
              "      <td>std</td>\n",
              "      <td>two</td>\n",
              "      <td>convertible</td>\n",
              "      <td>rwd</td>\n",
              "      <td>front</td>\n",
              "      <td>88.6</td>\n",
              "      <td>0.811148</td>\n",
              "      <td>0.890278</td>\n",
              "      <td>48.8</td>\n",
              "      <td>2548</td>\n",
              "      <td>dohc</td>\n",
              "      <td>four</td>\n",
              "      <td>130</td>\n",
              "      <td>mpfi</td>\n",
              "      <td>3.47</td>\n",
              "      <td>2.68</td>\n",
              "      <td>9.0</td>\n",
              "      <td>111.0</td>\n",
              "      <td>5000.0</td>\n",
              "      <td>21</td>\n",
              "      <td>27</td>\n",
              "      <td>13495.0</td>\n",
              "      <td>11.190476</td>\n",
              "      <td>Medium</td>\n",
              "      <td>0</td>\n",
              "      <td>1</td>\n",
              "    </tr>\n",
              "    <tr>\n",
              "      <th>1</th>\n",
              "      <td>3</td>\n",
              "      <td>122</td>\n",
              "      <td>alfa-romero</td>\n",
              "      <td>std</td>\n",
              "      <td>two</td>\n",
              "      <td>convertible</td>\n",
              "      <td>rwd</td>\n",
              "      <td>front</td>\n",
              "      <td>88.6</td>\n",
              "      <td>0.811148</td>\n",
              "      <td>0.890278</td>\n",
              "      <td>48.8</td>\n",
              "      <td>2548</td>\n",
              "      <td>dohc</td>\n",
              "      <td>four</td>\n",
              "      <td>130</td>\n",
              "      <td>mpfi</td>\n",
              "      <td>3.47</td>\n",
              "      <td>2.68</td>\n",
              "      <td>9.0</td>\n",
              "      <td>111.0</td>\n",
              "      <td>5000.0</td>\n",
              "      <td>21</td>\n",
              "      <td>27</td>\n",
              "      <td>16500.0</td>\n",
              "      <td>11.190476</td>\n",
              "      <td>Medium</td>\n",
              "      <td>0</td>\n",
              "      <td>1</td>\n",
              "    </tr>\n",
              "    <tr>\n",
              "      <th>2</th>\n",
              "      <td>1</td>\n",
              "      <td>122</td>\n",
              "      <td>alfa-romero</td>\n",
              "      <td>std</td>\n",
              "      <td>two</td>\n",
              "      <td>hatchback</td>\n",
              "      <td>rwd</td>\n",
              "      <td>front</td>\n",
              "      <td>94.5</td>\n",
              "      <td>0.822681</td>\n",
              "      <td>0.909722</td>\n",
              "      <td>52.4</td>\n",
              "      <td>2823</td>\n",
              "      <td>ohcv</td>\n",
              "      <td>six</td>\n",
              "      <td>152</td>\n",
              "      <td>mpfi</td>\n",
              "      <td>2.68</td>\n",
              "      <td>3.47</td>\n",
              "      <td>9.0</td>\n",
              "      <td>154.0</td>\n",
              "      <td>5000.0</td>\n",
              "      <td>19</td>\n",
              "      <td>26</td>\n",
              "      <td>16500.0</td>\n",
              "      <td>12.368421</td>\n",
              "      <td>Medium</td>\n",
              "      <td>0</td>\n",
              "      <td>1</td>\n",
              "    </tr>\n",
              "    <tr>\n",
              "      <th>3</th>\n",
              "      <td>2</td>\n",
              "      <td>164</td>\n",
              "      <td>audi</td>\n",
              "      <td>std</td>\n",
              "      <td>four</td>\n",
              "      <td>sedan</td>\n",
              "      <td>fwd</td>\n",
              "      <td>front</td>\n",
              "      <td>99.8</td>\n",
              "      <td>0.848630</td>\n",
              "      <td>0.919444</td>\n",
              "      <td>54.3</td>\n",
              "      <td>2337</td>\n",
              "      <td>ohc</td>\n",
              "      <td>four</td>\n",
              "      <td>109</td>\n",
              "      <td>mpfi</td>\n",
              "      <td>3.19</td>\n",
              "      <td>3.40</td>\n",
              "      <td>10.0</td>\n",
              "      <td>102.0</td>\n",
              "      <td>5500.0</td>\n",
              "      <td>24</td>\n",
              "      <td>30</td>\n",
              "      <td>13950.0</td>\n",
              "      <td>9.791667</td>\n",
              "      <td>Medium</td>\n",
              "      <td>0</td>\n",
              "      <td>1</td>\n",
              "    </tr>\n",
              "    <tr>\n",
              "      <th>4</th>\n",
              "      <td>2</td>\n",
              "      <td>164</td>\n",
              "      <td>audi</td>\n",
              "      <td>std</td>\n",
              "      <td>four</td>\n",
              "      <td>sedan</td>\n",
              "      <td>4wd</td>\n",
              "      <td>front</td>\n",
              "      <td>99.4</td>\n",
              "      <td>0.848630</td>\n",
              "      <td>0.922222</td>\n",
              "      <td>54.3</td>\n",
              "      <td>2824</td>\n",
              "      <td>ohc</td>\n",
              "      <td>five</td>\n",
              "      <td>136</td>\n",
              "      <td>mpfi</td>\n",
              "      <td>3.19</td>\n",
              "      <td>3.40</td>\n",
              "      <td>8.0</td>\n",
              "      <td>115.0</td>\n",
              "      <td>5500.0</td>\n",
              "      <td>18</td>\n",
              "      <td>22</td>\n",
              "      <td>17450.0</td>\n",
              "      <td>13.055556</td>\n",
              "      <td>Medium</td>\n",
              "      <td>0</td>\n",
              "      <td>1</td>\n",
              "    </tr>\n",
              "  </tbody>\n",
              "</table>\n",
              "</div>"
            ],
            "text/plain": [
              "   symboling  normalized-losses         make  ... horsepower-binned diesel gas\n",
              "0          3                122  alfa-romero  ...            Medium      0   1\n",
              "1          3                122  alfa-romero  ...            Medium      0   1\n",
              "2          1                122  alfa-romero  ...            Medium      0   1\n",
              "3          2                164         audi  ...            Medium      0   1\n",
              "4          2                164         audi  ...            Medium      0   1\n",
              "\n",
              "[5 rows x 29 columns]"
            ]
          },
          "metadata": {},
          "execution_count": 3
        }
      ]
    },
    {
      "cell_type": "markdown",
      "metadata": {
        "id": "xMybQnrcp5se"
      },
      "source": [
        "<h2 id=\"pattern_visualization\">2. Analyzing Individual Feature Patterns Using Visualization</h2>\n"
      ]
    },
    {
      "cell_type": "code",
      "metadata": {
        "id": "S-twKiXyp5sf"
      },
      "source": [
        "import matplotlib.pyplot as plt\n",
        "import seaborn as sns\n",
        "%matplotlib inline "
      ],
      "execution_count": 5,
      "outputs": []
    },
    {
      "cell_type": "code",
      "metadata": {
        "id": "LKrwu8arp5sg",
        "colab": {
          "base_uri": "https://localhost:8080/"
        },
        "outputId": "bca40501-a4f1-4714-fbf5-6ab887563148"
      },
      "source": [
        "# list the data types for each column\n",
        "print(df.dtypes)"
      ],
      "execution_count": 6,
      "outputs": [
        {
          "output_type": "stream",
          "name": "stdout",
          "text": [
            "symboling              int64\n",
            "normalized-losses      int64\n",
            "make                  object\n",
            "aspiration            object\n",
            "num-of-doors          object\n",
            "body-style            object\n",
            "drive-wheels          object\n",
            "engine-location       object\n",
            "wheel-base           float64\n",
            "length               float64\n",
            "width                float64\n",
            "height               float64\n",
            "curb-weight            int64\n",
            "engine-type           object\n",
            "num-of-cylinders      object\n",
            "engine-size            int64\n",
            "fuel-system           object\n",
            "bore                 float64\n",
            "stroke               float64\n",
            "compression-ratio    float64\n",
            "horsepower           float64\n",
            "peak-rpm             float64\n",
            "city-mpg               int64\n",
            "highway-mpg            int64\n",
            "price                float64\n",
            "city-L/100km         float64\n",
            "horsepower-binned     object\n",
            "diesel                 int64\n",
            "gas                    int64\n",
            "dtype: object\n"
          ]
        }
      ]
    },
    {
      "cell_type": "code",
      "metadata": {
        "id": "wDNsVso3p5sg",
        "colab": {
          "base_uri": "https://localhost:8080/"
        },
        "outputId": "16941324-c95d-40ee-ed88-ea31b9899f39"
      },
      "source": [
        "df['peak-rpm'].dtypes"
      ],
      "execution_count": 56,
      "outputs": [
        {
          "output_type": "execute_result",
          "data": {
            "text/plain": [
              "dtype('float64')"
            ]
          },
          "metadata": {},
          "execution_count": 56
        }
      ]
    },
    {
      "cell_type": "code",
      "metadata": {
        "id": "B-51C8YVp5sh",
        "colab": {
          "base_uri": "https://localhost:8080/",
          "height": 709
        },
        "outputId": "594a9736-27a3-4f5f-e3ff-786c6b6353bc"
      },
      "source": [
        "df.corr()"
      ],
      "execution_count": 8,
      "outputs": [
        {
          "output_type": "execute_result",
          "data": {
            "text/html": [
              "<div>\n",
              "<style scoped>\n",
              "    .dataframe tbody tr th:only-of-type {\n",
              "        vertical-align: middle;\n",
              "    }\n",
              "\n",
              "    .dataframe tbody tr th {\n",
              "        vertical-align: top;\n",
              "    }\n",
              "\n",
              "    .dataframe thead th {\n",
              "        text-align: right;\n",
              "    }\n",
              "</style>\n",
              "<table border=\"1\" class=\"dataframe\">\n",
              "  <thead>\n",
              "    <tr style=\"text-align: right;\">\n",
              "      <th></th>\n",
              "      <th>symboling</th>\n",
              "      <th>normalized-losses</th>\n",
              "      <th>wheel-base</th>\n",
              "      <th>length</th>\n",
              "      <th>width</th>\n",
              "      <th>height</th>\n",
              "      <th>curb-weight</th>\n",
              "      <th>engine-size</th>\n",
              "      <th>bore</th>\n",
              "      <th>stroke</th>\n",
              "      <th>compression-ratio</th>\n",
              "      <th>horsepower</th>\n",
              "      <th>peak-rpm</th>\n",
              "      <th>city-mpg</th>\n",
              "      <th>highway-mpg</th>\n",
              "      <th>price</th>\n",
              "      <th>city-L/100km</th>\n",
              "      <th>diesel</th>\n",
              "      <th>gas</th>\n",
              "    </tr>\n",
              "  </thead>\n",
              "  <tbody>\n",
              "    <tr>\n",
              "      <th>symboling</th>\n",
              "      <td>1.000000</td>\n",
              "      <td>0.466264</td>\n",
              "      <td>-0.535987</td>\n",
              "      <td>-0.365404</td>\n",
              "      <td>-0.242423</td>\n",
              "      <td>-0.550160</td>\n",
              "      <td>-0.233118</td>\n",
              "      <td>-0.110581</td>\n",
              "      <td>-0.140019</td>\n",
              "      <td>-0.008245</td>\n",
              "      <td>-0.182196</td>\n",
              "      <td>0.075819</td>\n",
              "      <td>0.279740</td>\n",
              "      <td>-0.035527</td>\n",
              "      <td>0.036233</td>\n",
              "      <td>-0.082391</td>\n",
              "      <td>0.066171</td>\n",
              "      <td>-0.196735</td>\n",
              "      <td>0.196735</td>\n",
              "    </tr>\n",
              "    <tr>\n",
              "      <th>normalized-losses</th>\n",
              "      <td>0.466264</td>\n",
              "      <td>1.000000</td>\n",
              "      <td>-0.056661</td>\n",
              "      <td>0.019424</td>\n",
              "      <td>0.086802</td>\n",
              "      <td>-0.373737</td>\n",
              "      <td>0.099404</td>\n",
              "      <td>0.112360</td>\n",
              "      <td>-0.029862</td>\n",
              "      <td>0.055563</td>\n",
              "      <td>-0.114713</td>\n",
              "      <td>0.217299</td>\n",
              "      <td>0.239543</td>\n",
              "      <td>-0.225016</td>\n",
              "      <td>-0.181877</td>\n",
              "      <td>0.133999</td>\n",
              "      <td>0.238567</td>\n",
              "      <td>-0.101546</td>\n",
              "      <td>0.101546</td>\n",
              "    </tr>\n",
              "    <tr>\n",
              "      <th>wheel-base</th>\n",
              "      <td>-0.535987</td>\n",
              "      <td>-0.056661</td>\n",
              "      <td>1.000000</td>\n",
              "      <td>0.876024</td>\n",
              "      <td>0.814507</td>\n",
              "      <td>0.590742</td>\n",
              "      <td>0.782097</td>\n",
              "      <td>0.572027</td>\n",
              "      <td>0.493244</td>\n",
              "      <td>0.158502</td>\n",
              "      <td>0.250313</td>\n",
              "      <td>0.371147</td>\n",
              "      <td>-0.360305</td>\n",
              "      <td>-0.470606</td>\n",
              "      <td>-0.543304</td>\n",
              "      <td>0.584642</td>\n",
              "      <td>0.476153</td>\n",
              "      <td>0.307237</td>\n",
              "      <td>-0.307237</td>\n",
              "    </tr>\n",
              "    <tr>\n",
              "      <th>length</th>\n",
              "      <td>-0.365404</td>\n",
              "      <td>0.019424</td>\n",
              "      <td>0.876024</td>\n",
              "      <td>1.000000</td>\n",
              "      <td>0.857170</td>\n",
              "      <td>0.492063</td>\n",
              "      <td>0.880665</td>\n",
              "      <td>0.685025</td>\n",
              "      <td>0.608971</td>\n",
              "      <td>0.124139</td>\n",
              "      <td>0.159733</td>\n",
              "      <td>0.579821</td>\n",
              "      <td>-0.285970</td>\n",
              "      <td>-0.665192</td>\n",
              "      <td>-0.698142</td>\n",
              "      <td>0.690628</td>\n",
              "      <td>0.657373</td>\n",
              "      <td>0.211187</td>\n",
              "      <td>-0.211187</td>\n",
              "    </tr>\n",
              "    <tr>\n",
              "      <th>width</th>\n",
              "      <td>-0.242423</td>\n",
              "      <td>0.086802</td>\n",
              "      <td>0.814507</td>\n",
              "      <td>0.857170</td>\n",
              "      <td>1.000000</td>\n",
              "      <td>0.306002</td>\n",
              "      <td>0.866201</td>\n",
              "      <td>0.729436</td>\n",
              "      <td>0.544885</td>\n",
              "      <td>0.188829</td>\n",
              "      <td>0.189867</td>\n",
              "      <td>0.615077</td>\n",
              "      <td>-0.245800</td>\n",
              "      <td>-0.633531</td>\n",
              "      <td>-0.680635</td>\n",
              "      <td>0.751265</td>\n",
              "      <td>0.673363</td>\n",
              "      <td>0.244356</td>\n",
              "      <td>-0.244356</td>\n",
              "    </tr>\n",
              "    <tr>\n",
              "      <th>height</th>\n",
              "      <td>-0.550160</td>\n",
              "      <td>-0.373737</td>\n",
              "      <td>0.590742</td>\n",
              "      <td>0.492063</td>\n",
              "      <td>0.306002</td>\n",
              "      <td>1.000000</td>\n",
              "      <td>0.307581</td>\n",
              "      <td>0.074694</td>\n",
              "      <td>0.180449</td>\n",
              "      <td>-0.062704</td>\n",
              "      <td>0.259737</td>\n",
              "      <td>-0.087027</td>\n",
              "      <td>-0.309974</td>\n",
              "      <td>-0.049800</td>\n",
              "      <td>-0.104812</td>\n",
              "      <td>0.135486</td>\n",
              "      <td>0.003811</td>\n",
              "      <td>0.281578</td>\n",
              "      <td>-0.281578</td>\n",
              "    </tr>\n",
              "    <tr>\n",
              "      <th>curb-weight</th>\n",
              "      <td>-0.233118</td>\n",
              "      <td>0.099404</td>\n",
              "      <td>0.782097</td>\n",
              "      <td>0.880665</td>\n",
              "      <td>0.866201</td>\n",
              "      <td>0.307581</td>\n",
              "      <td>1.000000</td>\n",
              "      <td>0.849072</td>\n",
              "      <td>0.644060</td>\n",
              "      <td>0.167562</td>\n",
              "      <td>0.156433</td>\n",
              "      <td>0.757976</td>\n",
              "      <td>-0.279361</td>\n",
              "      <td>-0.749543</td>\n",
              "      <td>-0.794889</td>\n",
              "      <td>0.834415</td>\n",
              "      <td>0.785353</td>\n",
              "      <td>0.221046</td>\n",
              "      <td>-0.221046</td>\n",
              "    </tr>\n",
              "    <tr>\n",
              "      <th>engine-size</th>\n",
              "      <td>-0.110581</td>\n",
              "      <td>0.112360</td>\n",
              "      <td>0.572027</td>\n",
              "      <td>0.685025</td>\n",
              "      <td>0.729436</td>\n",
              "      <td>0.074694</td>\n",
              "      <td>0.849072</td>\n",
              "      <td>1.000000</td>\n",
              "      <td>0.572609</td>\n",
              "      <td>0.209523</td>\n",
              "      <td>0.028889</td>\n",
              "      <td>0.822676</td>\n",
              "      <td>-0.256733</td>\n",
              "      <td>-0.650546</td>\n",
              "      <td>-0.679571</td>\n",
              "      <td>0.872335</td>\n",
              "      <td>0.745059</td>\n",
              "      <td>0.070779</td>\n",
              "      <td>-0.070779</td>\n",
              "    </tr>\n",
              "    <tr>\n",
              "      <th>bore</th>\n",
              "      <td>-0.140019</td>\n",
              "      <td>-0.029862</td>\n",
              "      <td>0.493244</td>\n",
              "      <td>0.608971</td>\n",
              "      <td>0.544885</td>\n",
              "      <td>0.180449</td>\n",
              "      <td>0.644060</td>\n",
              "      <td>0.572609</td>\n",
              "      <td>1.000000</td>\n",
              "      <td>-0.055390</td>\n",
              "      <td>0.001263</td>\n",
              "      <td>0.566936</td>\n",
              "      <td>-0.267392</td>\n",
              "      <td>-0.582027</td>\n",
              "      <td>-0.591309</td>\n",
              "      <td>0.543155</td>\n",
              "      <td>0.554610</td>\n",
              "      <td>0.054458</td>\n",
              "      <td>-0.054458</td>\n",
              "    </tr>\n",
              "    <tr>\n",
              "      <th>stroke</th>\n",
              "      <td>-0.008245</td>\n",
              "      <td>0.055563</td>\n",
              "      <td>0.158502</td>\n",
              "      <td>0.124139</td>\n",
              "      <td>0.188829</td>\n",
              "      <td>-0.062704</td>\n",
              "      <td>0.167562</td>\n",
              "      <td>0.209523</td>\n",
              "      <td>-0.055390</td>\n",
              "      <td>1.000000</td>\n",
              "      <td>0.187923</td>\n",
              "      <td>0.098462</td>\n",
              "      <td>-0.065713</td>\n",
              "      <td>-0.034696</td>\n",
              "      <td>-0.035201</td>\n",
              "      <td>0.082310</td>\n",
              "      <td>0.037300</td>\n",
              "      <td>0.241303</td>\n",
              "      <td>-0.241303</td>\n",
              "    </tr>\n",
              "    <tr>\n",
              "      <th>compression-ratio</th>\n",
              "      <td>-0.182196</td>\n",
              "      <td>-0.114713</td>\n",
              "      <td>0.250313</td>\n",
              "      <td>0.159733</td>\n",
              "      <td>0.189867</td>\n",
              "      <td>0.259737</td>\n",
              "      <td>0.156433</td>\n",
              "      <td>0.028889</td>\n",
              "      <td>0.001263</td>\n",
              "      <td>0.187923</td>\n",
              "      <td>1.000000</td>\n",
              "      <td>-0.214514</td>\n",
              "      <td>-0.435780</td>\n",
              "      <td>0.331425</td>\n",
              "      <td>0.268465</td>\n",
              "      <td>0.071107</td>\n",
              "      <td>-0.299372</td>\n",
              "      <td>0.985231</td>\n",
              "      <td>-0.985231</td>\n",
              "    </tr>\n",
              "    <tr>\n",
              "      <th>horsepower</th>\n",
              "      <td>0.075819</td>\n",
              "      <td>0.217299</td>\n",
              "      <td>0.371147</td>\n",
              "      <td>0.579821</td>\n",
              "      <td>0.615077</td>\n",
              "      <td>-0.087027</td>\n",
              "      <td>0.757976</td>\n",
              "      <td>0.822676</td>\n",
              "      <td>0.566936</td>\n",
              "      <td>0.098462</td>\n",
              "      <td>-0.214514</td>\n",
              "      <td>1.000000</td>\n",
              "      <td>0.107885</td>\n",
              "      <td>-0.822214</td>\n",
              "      <td>-0.804575</td>\n",
              "      <td>0.809575</td>\n",
              "      <td>0.889488</td>\n",
              "      <td>-0.169053</td>\n",
              "      <td>0.169053</td>\n",
              "    </tr>\n",
              "    <tr>\n",
              "      <th>peak-rpm</th>\n",
              "      <td>0.279740</td>\n",
              "      <td>0.239543</td>\n",
              "      <td>-0.360305</td>\n",
              "      <td>-0.285970</td>\n",
              "      <td>-0.245800</td>\n",
              "      <td>-0.309974</td>\n",
              "      <td>-0.279361</td>\n",
              "      <td>-0.256733</td>\n",
              "      <td>-0.267392</td>\n",
              "      <td>-0.065713</td>\n",
              "      <td>-0.435780</td>\n",
              "      <td>0.107885</td>\n",
              "      <td>1.000000</td>\n",
              "      <td>-0.115413</td>\n",
              "      <td>-0.058598</td>\n",
              "      <td>-0.101616</td>\n",
              "      <td>0.115830</td>\n",
              "      <td>-0.475812</td>\n",
              "      <td>0.475812</td>\n",
              "    </tr>\n",
              "    <tr>\n",
              "      <th>city-mpg</th>\n",
              "      <td>-0.035527</td>\n",
              "      <td>-0.225016</td>\n",
              "      <td>-0.470606</td>\n",
              "      <td>-0.665192</td>\n",
              "      <td>-0.633531</td>\n",
              "      <td>-0.049800</td>\n",
              "      <td>-0.749543</td>\n",
              "      <td>-0.650546</td>\n",
              "      <td>-0.582027</td>\n",
              "      <td>-0.034696</td>\n",
              "      <td>0.331425</td>\n",
              "      <td>-0.822214</td>\n",
              "      <td>-0.115413</td>\n",
              "      <td>1.000000</td>\n",
              "      <td>0.972044</td>\n",
              "      <td>-0.686571</td>\n",
              "      <td>-0.949713</td>\n",
              "      <td>0.265676</td>\n",
              "      <td>-0.265676</td>\n",
              "    </tr>\n",
              "    <tr>\n",
              "      <th>highway-mpg</th>\n",
              "      <td>0.036233</td>\n",
              "      <td>-0.181877</td>\n",
              "      <td>-0.543304</td>\n",
              "      <td>-0.698142</td>\n",
              "      <td>-0.680635</td>\n",
              "      <td>-0.104812</td>\n",
              "      <td>-0.794889</td>\n",
              "      <td>-0.679571</td>\n",
              "      <td>-0.591309</td>\n",
              "      <td>-0.035201</td>\n",
              "      <td>0.268465</td>\n",
              "      <td>-0.804575</td>\n",
              "      <td>-0.058598</td>\n",
              "      <td>0.972044</td>\n",
              "      <td>1.000000</td>\n",
              "      <td>-0.704692</td>\n",
              "      <td>-0.930028</td>\n",
              "      <td>0.198690</td>\n",
              "      <td>-0.198690</td>\n",
              "    </tr>\n",
              "    <tr>\n",
              "      <th>price</th>\n",
              "      <td>-0.082391</td>\n",
              "      <td>0.133999</td>\n",
              "      <td>0.584642</td>\n",
              "      <td>0.690628</td>\n",
              "      <td>0.751265</td>\n",
              "      <td>0.135486</td>\n",
              "      <td>0.834415</td>\n",
              "      <td>0.872335</td>\n",
              "      <td>0.543155</td>\n",
              "      <td>0.082310</td>\n",
              "      <td>0.071107</td>\n",
              "      <td>0.809575</td>\n",
              "      <td>-0.101616</td>\n",
              "      <td>-0.686571</td>\n",
              "      <td>-0.704692</td>\n",
              "      <td>1.000000</td>\n",
              "      <td>0.789898</td>\n",
              "      <td>0.110326</td>\n",
              "      <td>-0.110326</td>\n",
              "    </tr>\n",
              "    <tr>\n",
              "      <th>city-L/100km</th>\n",
              "      <td>0.066171</td>\n",
              "      <td>0.238567</td>\n",
              "      <td>0.476153</td>\n",
              "      <td>0.657373</td>\n",
              "      <td>0.673363</td>\n",
              "      <td>0.003811</td>\n",
              "      <td>0.785353</td>\n",
              "      <td>0.745059</td>\n",
              "      <td>0.554610</td>\n",
              "      <td>0.037300</td>\n",
              "      <td>-0.299372</td>\n",
              "      <td>0.889488</td>\n",
              "      <td>0.115830</td>\n",
              "      <td>-0.949713</td>\n",
              "      <td>-0.930028</td>\n",
              "      <td>0.789898</td>\n",
              "      <td>1.000000</td>\n",
              "      <td>-0.241282</td>\n",
              "      <td>0.241282</td>\n",
              "    </tr>\n",
              "    <tr>\n",
              "      <th>diesel</th>\n",
              "      <td>-0.196735</td>\n",
              "      <td>-0.101546</td>\n",
              "      <td>0.307237</td>\n",
              "      <td>0.211187</td>\n",
              "      <td>0.244356</td>\n",
              "      <td>0.281578</td>\n",
              "      <td>0.221046</td>\n",
              "      <td>0.070779</td>\n",
              "      <td>0.054458</td>\n",
              "      <td>0.241303</td>\n",
              "      <td>0.985231</td>\n",
              "      <td>-0.169053</td>\n",
              "      <td>-0.475812</td>\n",
              "      <td>0.265676</td>\n",
              "      <td>0.198690</td>\n",
              "      <td>0.110326</td>\n",
              "      <td>-0.241282</td>\n",
              "      <td>1.000000</td>\n",
              "      <td>-1.000000</td>\n",
              "    </tr>\n",
              "    <tr>\n",
              "      <th>gas</th>\n",
              "      <td>0.196735</td>\n",
              "      <td>0.101546</td>\n",
              "      <td>-0.307237</td>\n",
              "      <td>-0.211187</td>\n",
              "      <td>-0.244356</td>\n",
              "      <td>-0.281578</td>\n",
              "      <td>-0.221046</td>\n",
              "      <td>-0.070779</td>\n",
              "      <td>-0.054458</td>\n",
              "      <td>-0.241303</td>\n",
              "      <td>-0.985231</td>\n",
              "      <td>0.169053</td>\n",
              "      <td>0.475812</td>\n",
              "      <td>-0.265676</td>\n",
              "      <td>-0.198690</td>\n",
              "      <td>-0.110326</td>\n",
              "      <td>0.241282</td>\n",
              "      <td>-1.000000</td>\n",
              "      <td>1.000000</td>\n",
              "    </tr>\n",
              "  </tbody>\n",
              "</table>\n",
              "</div>"
            ],
            "text/plain": [
              "                   symboling  normalized-losses  ...    diesel       gas\n",
              "symboling           1.000000           0.466264  ... -0.196735  0.196735\n",
              "normalized-losses   0.466264           1.000000  ... -0.101546  0.101546\n",
              "wheel-base         -0.535987          -0.056661  ...  0.307237 -0.307237\n",
              "length             -0.365404           0.019424  ...  0.211187 -0.211187\n",
              "width              -0.242423           0.086802  ...  0.244356 -0.244356\n",
              "height             -0.550160          -0.373737  ...  0.281578 -0.281578\n",
              "curb-weight        -0.233118           0.099404  ...  0.221046 -0.221046\n",
              "engine-size        -0.110581           0.112360  ...  0.070779 -0.070779\n",
              "bore               -0.140019          -0.029862  ...  0.054458 -0.054458\n",
              "stroke             -0.008245           0.055563  ...  0.241303 -0.241303\n",
              "compression-ratio  -0.182196          -0.114713  ...  0.985231 -0.985231\n",
              "horsepower          0.075819           0.217299  ... -0.169053  0.169053\n",
              "peak-rpm            0.279740           0.239543  ... -0.475812  0.475812\n",
              "city-mpg           -0.035527          -0.225016  ...  0.265676 -0.265676\n",
              "highway-mpg         0.036233          -0.181877  ...  0.198690 -0.198690\n",
              "price              -0.082391           0.133999  ...  0.110326 -0.110326\n",
              "city-L/100km        0.066171           0.238567  ... -0.241282  0.241282\n",
              "diesel             -0.196735          -0.101546  ...  1.000000 -1.000000\n",
              "gas                 0.196735           0.101546  ... -1.000000  1.000000\n",
              "\n",
              "[19 rows x 19 columns]"
            ]
          },
          "metadata": {},
          "execution_count": 8
        }
      ]
    },
    {
      "cell_type": "code",
      "metadata": {
        "id": "bl-Fi61vp5sh",
        "colab": {
          "base_uri": "https://localhost:8080/",
          "height": 173
        },
        "outputId": "e6d386f7-cb30-41b4-d9b4-61acad67e884"
      },
      "source": [
        "df[['bore','stroke','compression-ratio','horsepower']].corr()"
      ],
      "execution_count": 9,
      "outputs": [
        {
          "output_type": "execute_result",
          "data": {
            "text/html": [
              "<div>\n",
              "<style scoped>\n",
              "    .dataframe tbody tr th:only-of-type {\n",
              "        vertical-align: middle;\n",
              "    }\n",
              "\n",
              "    .dataframe tbody tr th {\n",
              "        vertical-align: top;\n",
              "    }\n",
              "\n",
              "    .dataframe thead th {\n",
              "        text-align: right;\n",
              "    }\n",
              "</style>\n",
              "<table border=\"1\" class=\"dataframe\">\n",
              "  <thead>\n",
              "    <tr style=\"text-align: right;\">\n",
              "      <th></th>\n",
              "      <th>bore</th>\n",
              "      <th>stroke</th>\n",
              "      <th>compression-ratio</th>\n",
              "      <th>horsepower</th>\n",
              "    </tr>\n",
              "  </thead>\n",
              "  <tbody>\n",
              "    <tr>\n",
              "      <th>bore</th>\n",
              "      <td>1.000000</td>\n",
              "      <td>-0.055390</td>\n",
              "      <td>0.001263</td>\n",
              "      <td>0.566936</td>\n",
              "    </tr>\n",
              "    <tr>\n",
              "      <th>stroke</th>\n",
              "      <td>-0.055390</td>\n",
              "      <td>1.000000</td>\n",
              "      <td>0.187923</td>\n",
              "      <td>0.098462</td>\n",
              "    </tr>\n",
              "    <tr>\n",
              "      <th>compression-ratio</th>\n",
              "      <td>0.001263</td>\n",
              "      <td>0.187923</td>\n",
              "      <td>1.000000</td>\n",
              "      <td>-0.214514</td>\n",
              "    </tr>\n",
              "    <tr>\n",
              "      <th>horsepower</th>\n",
              "      <td>0.566936</td>\n",
              "      <td>0.098462</td>\n",
              "      <td>-0.214514</td>\n",
              "      <td>1.000000</td>\n",
              "    </tr>\n",
              "  </tbody>\n",
              "</table>\n",
              "</div>"
            ],
            "text/plain": [
              "                       bore    stroke  compression-ratio  horsepower\n",
              "bore               1.000000 -0.055390           0.001263    0.566936\n",
              "stroke            -0.055390  1.000000           0.187923    0.098462\n",
              "compression-ratio  0.001263  0.187923           1.000000   -0.214514\n",
              "horsepower         0.566936  0.098462          -0.214514    1.000000"
            ]
          },
          "metadata": {},
          "execution_count": 9
        }
      ]
    },
    {
      "cell_type": "markdown",
      "metadata": {
        "id": "yraPJQFnp5si"
      },
      "source": [
        "<h3>Positive Linear Relationship</h4>\n"
      ]
    },
    {
      "cell_type": "markdown",
      "metadata": {
        "id": "LPFh3Zi1p5si"
      },
      "source": [
        "Let's find the scatterplot of \"engine-size\" and \"price\".\n"
      ]
    },
    {
      "cell_type": "code",
      "metadata": {
        "scrolled": true,
        "id": "eNpi1ZYpp5si",
        "colab": {
          "base_uri": "https://localhost:8080/",
          "height": 279
        },
        "outputId": "06f767fc-1af4-46fd-e4d1-1feaca250189"
      },
      "source": [
        "# Engine size as potential predictor variable of price\n",
        "sns.regplot(x=\"price\", y=\"engine-size\", data=df)\n",
        "plt.ylim(0,)\n",
        "plt.show()"
      ],
      "execution_count": 10,
      "outputs": [
        {
          "output_type": "display_data",
          "data": {
            "image/png": "[encoded data removed]",
            "text/plain": [
              "<Figure size 432x288 with 1 Axes>"
            ]
          },
          "metadata": {
            "needs_background": "light"
          }
        }
      ]
    },
    {
      "cell_type": "markdown",
      "metadata": {
        "id": "UEeWtjeWp5si"
      },
      "source": [
        "<p>As the engine-size goes up, the price goes up: this indicates a positive direct correlation between these two variables. Engine size seems like a pretty good predictor of price since the regression line is almost a perfect diagonal line.</p>\n"
      ]
    },
    {
      "cell_type": "code",
      "metadata": {
        "id": "8fRM83Wap5sj",
        "colab": {
          "base_uri": "https://localhost:8080/",
          "height": 111
        },
        "outputId": "2353b0d8-871e-45e1-afde-2b520606f870"
      },
      "source": [
        "df[[\"engine-size\", \"price\"]].corr()"
      ],
      "execution_count": 11,
      "outputs": [
        {
          "output_type": "execute_result",
          "data": {
            "text/html": [
              "<div>\n",
              "<style scoped>\n",
              "    .dataframe tbody tr th:only-of-type {\n",
              "        vertical-align: middle;\n",
              "    }\n",
              "\n",
              "    .dataframe tbody tr th {\n",
              "        vertical-align: top;\n",
              "    }\n",
              "\n",
              "    .dataframe thead th {\n",
              "        text-align: right;\n",
              "    }\n",
              "</style>\n",
              "<table border=\"1\" class=\"dataframe\">\n",
              "  <thead>\n",
              "    <tr style=\"text-align: right;\">\n",
              "      <th></th>\n",
              "      <th>engine-size</th>\n",
              "      <th>price</th>\n",
              "    </tr>\n",
              "  </thead>\n",
              "  <tbody>\n",
              "    <tr>\n",
              "      <th>engine-size</th>\n",
              "      <td>1.000000</td>\n",
              "      <td>0.872335</td>\n",
              "    </tr>\n",
              "    <tr>\n",
              "      <th>price</th>\n",
              "      <td>0.872335</td>\n",
              "      <td>1.000000</td>\n",
              "    </tr>\n",
              "  </tbody>\n",
              "</table>\n",
              "</div>"
            ],
            "text/plain": [
              "             engine-size     price\n",
              "engine-size     1.000000  0.872335\n",
              "price           0.872335  1.000000"
            ]
          },
          "metadata": {},
          "execution_count": 11
        }
      ]
    },
    {
      "cell_type": "markdown",
      "metadata": {
        "id": "q4ndP6dzp5sj"
      },
      "source": [
        "Highway mpg is a potential predictor variable of price. Let's find the scatterplot of \"highway-mpg\" and \"price\".\n"
      ]
    },
    {
      "cell_type": "code",
      "metadata": {
        "id": "c4z-5AlNp5sj",
        "colab": {
          "base_uri": "https://localhost:8080/",
          "height": 296
        },
        "outputId": "726343a3-0c82-402b-d195-36b8c1f31ad1"
      },
      "source": [
        "sns.regplot(x=\"highway-mpg\", y=\"price\", data=df)"
      ],
      "execution_count": 12,
      "outputs": [
        {
          "output_type": "execute_result",
          "data": {
            "text/plain": [
              "<matplotlib.axes._subplots.AxesSubplot at 0x7f92765484d0>"
            ]
          },
          "metadata": {},
          "execution_count": 12
        },
        {
          "output_type": "display_data",
          "data": {
            "image/png": "[encoded data removed]",
            "text/plain": [
              "<Figure size 432x288 with 1 Axes>"
            ]
          },
          "metadata": {
            "needs_background": "light"
          }
        }
      ]
    },
    {
      "cell_type": "markdown",
      "metadata": {
        "id": "j2NIFSGSp5sj"
      },
      "source": [
        "<p>As highway-mpg goes up, the price goes down: this indicates an inverse/negative relationship between these two variables. Highway mpg could potentially be a predictor of price.</p>\n"
      ]
    },
    {
      "cell_type": "code",
      "metadata": {
        "id": "4Kc65XmMp5sj",
        "colab": {
          "base_uri": "https://localhost:8080/",
          "height": 111
        },
        "outputId": "c9de1d0d-88e8-4642-f20c-a703d081d66b"
      },
      "source": [
        "df[['highway-mpg', 'price']].corr()"
      ],
      "execution_count": 13,
      "outputs": [
        {
          "output_type": "execute_result",
          "data": {
            "text/html": [
              "<div>\n",
              "<style scoped>\n",
              "    .dataframe tbody tr th:only-of-type {\n",
              "        vertical-align: middle;\n",
              "    }\n",
              "\n",
              "    .dataframe tbody tr th {\n",
              "        vertical-align: top;\n",
              "    }\n",
              "\n",
              "    .dataframe thead th {\n",
              "        text-align: right;\n",
              "    }\n",
              "</style>\n",
              "<table border=\"1\" class=\"dataframe\">\n",
              "  <thead>\n",
              "    <tr style=\"text-align: right;\">\n",
              "      <th></th>\n",
              "      <th>highway-mpg</th>\n",
              "      <th>price</th>\n",
              "    </tr>\n",
              "  </thead>\n",
              "  <tbody>\n",
              "    <tr>\n",
              "      <th>highway-mpg</th>\n",
              "      <td>1.000000</td>\n",
              "      <td>-0.704692</td>\n",
              "    </tr>\n",
              "    <tr>\n",
              "      <th>price</th>\n",
              "      <td>-0.704692</td>\n",
              "      <td>1.000000</td>\n",
              "    </tr>\n",
              "  </tbody>\n",
              "</table>\n",
              "</div>"
            ],
            "text/plain": [
              "             highway-mpg     price\n",
              "highway-mpg     1.000000 -0.704692\n",
              "price          -0.704692  1.000000"
            ]
          },
          "metadata": {},
          "execution_count": 13
        }
      ]
    },
    {
      "cell_type": "markdown",
      "metadata": {
        "id": "7naSqR0ep5sk"
      },
      "source": [
        "<h3>Weak Linear Relationship</h3>\n"
      ]
    },
    {
      "cell_type": "markdown",
      "metadata": {
        "id": "YJTsqvbVp5sk"
      },
      "source": [
        "Let's see if \"peak-rpm\" is a predictor variable of \"price\".\n"
      ]
    },
    {
      "cell_type": "code",
      "metadata": {
        "id": "bMsC4VpVp5sk",
        "colab": {
          "base_uri": "https://localhost:8080/",
          "height": 296
        },
        "outputId": "fc872137-00d9-4016-a726-ea01d06493e3"
      },
      "source": [
        "sns.regplot(x=\"peak-rpm\", y=\"price\", data=df)"
      ],
      "execution_count": 14,
      "outputs": [
        {
          "output_type": "execute_result",
          "data": {
            "text/plain": [
              "<matplotlib.axes._subplots.AxesSubplot at 0x7f92764cdd10>"
            ]
          },
          "metadata": {},
          "execution_count": 14
        },
        {
          "output_type": "display_data",
          "data": {
            "image/png": "[encoded data removed]",
            "text/plain": [
              "<Figure size 432x288 with 1 Axes>"
            ]
          },
          "metadata": {
            "needs_background": "light"
          }
        }
      ]
    },
    {
      "cell_type": "markdown",
      "metadata": {
        "id": "JwV4UDHmp5sk"
      },
      "source": [
        "<p>Peak rpm does not seem like a good predictor of the price at all since the regression line is close to horizontal. Also, the data points are very scattered and far from the fitted line, showing lots of variability. Therefore, it's not a reliable variable.</p>\n"
      ]
    },
    {
      "cell_type": "code",
      "metadata": {
        "id": "FaB3Upbgp5sk",
        "colab": {
          "base_uri": "https://localhost:8080/",
          "height": 111
        },
        "outputId": "8a28784a-dea8-43c8-97bc-278ac576862b"
      },
      "source": [
        "df[['peak-rpm','price']].corr()"
      ],
      "execution_count": 15,
      "outputs": [
        {
          "output_type": "execute_result",
          "data": {
            "text/html": [
              "<div>\n",
              "<style scoped>\n",
              "    .dataframe tbody tr th:only-of-type {\n",
              "        vertical-align: middle;\n",
              "    }\n",
              "\n",
              "    .dataframe tbody tr th {\n",
              "        vertical-align: top;\n",
              "    }\n",
              "\n",
              "    .dataframe thead th {\n",
              "        text-align: right;\n",
              "    }\n",
              "</style>\n",
              "<table border=\"1\" class=\"dataframe\">\n",
              "  <thead>\n",
              "    <tr style=\"text-align: right;\">\n",
              "      <th></th>\n",
              "      <th>peak-rpm</th>\n",
              "      <th>price</th>\n",
              "    </tr>\n",
              "  </thead>\n",
              "  <tbody>\n",
              "    <tr>\n",
              "      <th>peak-rpm</th>\n",
              "      <td>1.000000</td>\n",
              "      <td>-0.101616</td>\n",
              "    </tr>\n",
              "    <tr>\n",
              "      <th>price</th>\n",
              "      <td>-0.101616</td>\n",
              "      <td>1.000000</td>\n",
              "    </tr>\n",
              "  </tbody>\n",
              "</table>\n",
              "</div>"
            ],
            "text/plain": [
              "          peak-rpm     price\n",
              "peak-rpm  1.000000 -0.101616\n",
              "price    -0.101616  1.000000"
            ]
          },
          "metadata": {},
          "execution_count": 15
        }
      ]
    },
    {
      "cell_type": "code",
      "metadata": {
        "id": "cGvXILVOp5sl",
        "colab": {
          "base_uri": "https://localhost:8080/",
          "height": 296
        },
        "outputId": "5c48d695-15b8-4543-87f9-78353244d570"
      },
      "source": [
        "# Write your code below and press Shift+Enter to execute \n",
        "sns.regplot(x=\"price\", y=\"stroke\", data=df)\n"
      ],
      "execution_count": 17,
      "outputs": [
        {
          "output_type": "execute_result",
          "data": {
            "text/plain": [
              "<matplotlib.axes._subplots.AxesSubplot at 0x7f92764513d0>"
            ]
          },
          "metadata": {},
          "execution_count": 17
        },
        {
          "output_type": "display_data",
          "data": {
            "image/png": "[encoded data removed]",
            "text/plain": [
              "<Figure size 432x288 with 1 Axes>"
            ]
          },
          "metadata": {
            "needs_background": "light"
          }
        }
      ]
    },
    {
      "cell_type": "markdown",
      "metadata": {
        "id": "-Ya6LJTXp5sl"
      },
      "source": [
        "<h3>Categorical Variables</h3>\n",
        "\n",
        "<p>These are variables that describe a 'characteristic' of a data unit, and are selected from a small group of categories. The categorical variables can have the type \"object\" or \"int64\". A good way to visualize categorical variables is by using boxplots.</p>\n"
      ]
    },
    {
      "cell_type": "markdown",
      "metadata": {
        "id": "4--CoPejp5sl"
      },
      "source": [
        "Let's look at the relationship between \"body-style\" and \"price\".\n"
      ]
    },
    {
      "cell_type": "code",
      "metadata": {
        "scrolled": true,
        "id": "5h1bs46tp5sl",
        "colab": {
          "base_uri": "https://localhost:8080/",
          "height": 296
        },
        "outputId": "c42f6f8b-42f0-4709-9ad9-485f8b84901c"
      },
      "source": [
        "sns.boxplot(x=\"body-style\", y=\"price\", data=df)\n"
      ],
      "execution_count": 18,
      "outputs": [
        {
          "output_type": "execute_result",
          "data": {
            "text/plain": [
              "<matplotlib.axes._subplots.AxesSubplot at 0x7f92763d0710>"
            ]
          },
          "metadata": {},
          "execution_count": 18
        },
        {
          "output_type": "display_data",
          "data": {
            "image/png": "[encoded data removed]",
            "text/plain": [
              "<Figure size 432x288 with 1 Axes>"
            ]
          },
          "metadata": {
            "needs_background": "light"
          }
        }
      ]
    },
    {
      "cell_type": "markdown",
      "metadata": {
        "id": "vygGrHR6p5sl"
      },
      "source": [
        "<p>We see that the distributions of price between the different body-style categories have a significant overlap, so body-style would not be a good predictor of price. Let's examine engine \"engine-location\" and \"price\":</p>\n"
      ]
    },
    {
      "cell_type": "code",
      "metadata": {
        "scrolled": true,
        "id": "SO2KN3aWp5sm",
        "colab": {
          "base_uri": "https://localhost:8080/",
          "height": 296
        },
        "outputId": "011e75aa-c4fa-4d1e-80b2-0c980a320926"
      },
      "source": [
        "sns.boxplot(x=\"engine-location\", y=\"price\", data=df)"
      ],
      "execution_count": 19,
      "outputs": [
        {
          "output_type": "execute_result",
          "data": {
            "text/plain": [
              "<matplotlib.axes._subplots.AxesSubplot at 0x7f92763d0350>"
            ]
          },
          "metadata": {},
          "execution_count": 19
        },
        {
          "output_type": "display_data",
          "data": {
            "image/png": "[encoded data removed]",
            "text/plain": [
              "<Figure size 432x288 with 1 Axes>"
            ]
          },
          "metadata": {
            "needs_background": "light"
          }
        }
      ]
    },
    {
      "cell_type": "markdown",
      "metadata": {
        "id": "OsXPIGBOp5sm"
      },
      "source": [
        "<p>Here we see that the distribution of price between these two engine-location categories, front and rear, are distinct enough to take engine-location as a potential good predictor of price.</p>\n"
      ]
    },
    {
      "cell_type": "markdown",
      "metadata": {
        "id": "kimpja0np5sm"
      },
      "source": [
        "Let's examine \"drive-wheels\" and \"price\".\n"
      ]
    },
    {
      "cell_type": "code",
      "metadata": {
        "id": "wjZxB3bup5sm",
        "colab": {
          "base_uri": "https://localhost:8080/",
          "height": 296
        },
        "outputId": "2fbef83c-852e-4abf-8917-a98c35c3dc80"
      },
      "source": [
        "# drive-wheels\n",
        "sns.boxplot(x=\"drive-wheels\", y=\"price\", data=df)"
      ],
      "execution_count": 20,
      "outputs": [
        {
          "output_type": "execute_result",
          "data": {
            "text/plain": [
              "<matplotlib.axes._subplots.AxesSubplot at 0x7f9276a8a2d0>"
            ]
          },
          "metadata": {},
          "execution_count": 20
        },
        {
          "output_type": "display_data",
          "data": {
            "image/png": "[encoded data removed]",
            "text/plain": [
              "<Figure size 432x288 with 1 Axes>"
            ]
          },
          "metadata": {
            "needs_background": "light"
          }
        }
      ]
    },
    {
      "cell_type": "markdown",
      "metadata": {
        "id": "qTXlRY6-p5sm"
      },
      "source": [
        "<p>Here we see that the distribution of price between the different drive-wheels categories differs. As such, drive-wheels could potentially be a predictor of price.</p>\n"
      ]
    },
    {
      "cell_type": "markdown",
      "metadata": {
        "id": "-da6tYWpp5sm"
      },
      "source": [
        "<h2 id=\"discriptive_statistics\">3. Descriptive Statistical Analysis</h2>\n"
      ]
    },
    {
      "cell_type": "code",
      "metadata": {
        "id": "PbuodPSVp5sm",
        "colab": {
          "base_uri": "https://localhost:8080/",
          "height": 334
        },
        "outputId": "dcee9ea8-7ac6-4696-f02b-e74025265268"
      },
      "source": [
        "df.describe()"
      ],
      "execution_count": 21,
      "outputs": [
        {
          "output_type": "execute_result",
          "data": {
            "text/html": [
              "<div>\n",
              "<style scoped>\n",
              "    .dataframe tbody tr th:only-of-type {\n",
              "        vertical-align: middle;\n",
              "    }\n",
              "\n",
              "    .dataframe tbody tr th {\n",
              "        vertical-align: top;\n",
              "    }\n",
              "\n",
              "    .dataframe thead th {\n",
              "        text-align: right;\n",
              "    }\n",
              "</style>\n",
              "<table border=\"1\" class=\"dataframe\">\n",
              "  <thead>\n",
              "    <tr style=\"text-align: right;\">\n",
              "      <th></th>\n",
              "      <th>symboling</th>\n",
              "      <th>normalized-losses</th>\n",
              "      <th>wheel-base</th>\n",
              "      <th>length</th>\n",
              "      <th>width</th>\n",
              "      <th>height</th>\n",
              "      <th>curb-weight</th>\n",
              "      <th>engine-size</th>\n",
              "      <th>bore</th>\n",
              "      <th>stroke</th>\n",
              "      <th>compression-ratio</th>\n",
              "      <th>horsepower</th>\n",
              "      <th>peak-rpm</th>\n",
              "      <th>city-mpg</th>\n",
              "      <th>highway-mpg</th>\n",
              "      <th>price</th>\n",
              "      <th>city-L/100km</th>\n",
              "      <th>diesel</th>\n",
              "      <th>gas</th>\n",
              "    </tr>\n",
              "  </thead>\n",
              "  <tbody>\n",
              "    <tr>\n",
              "      <th>count</th>\n",
              "      <td>201.000000</td>\n",
              "      <td>201.00000</td>\n",
              "      <td>201.000000</td>\n",
              "      <td>201.000000</td>\n",
              "      <td>201.000000</td>\n",
              "      <td>201.000000</td>\n",
              "      <td>201.000000</td>\n",
              "      <td>201.000000</td>\n",
              "      <td>201.000000</td>\n",
              "      <td>197.000000</td>\n",
              "      <td>201.000000</td>\n",
              "      <td>201.000000</td>\n",
              "      <td>201.000000</td>\n",
              "      <td>201.000000</td>\n",
              "      <td>201.000000</td>\n",
              "      <td>201.000000</td>\n",
              "      <td>201.000000</td>\n",
              "      <td>201.000000</td>\n",
              "      <td>201.000000</td>\n",
              "    </tr>\n",
              "    <tr>\n",
              "      <th>mean</th>\n",
              "      <td>0.840796</td>\n",
              "      <td>122.00000</td>\n",
              "      <td>98.797015</td>\n",
              "      <td>0.837102</td>\n",
              "      <td>0.915126</td>\n",
              "      <td>53.766667</td>\n",
              "      <td>2555.666667</td>\n",
              "      <td>126.875622</td>\n",
              "      <td>3.330692</td>\n",
              "      <td>3.256904</td>\n",
              "      <td>10.164279</td>\n",
              "      <td>103.405534</td>\n",
              "      <td>5117.665368</td>\n",
              "      <td>25.179104</td>\n",
              "      <td>30.686567</td>\n",
              "      <td>13207.129353</td>\n",
              "      <td>9.944145</td>\n",
              "      <td>0.099502</td>\n",
              "      <td>0.900498</td>\n",
              "    </tr>\n",
              "    <tr>\n",
              "      <th>std</th>\n",
              "      <td>1.254802</td>\n",
              "      <td>31.99625</td>\n",
              "      <td>6.066366</td>\n",
              "      <td>0.059213</td>\n",
              "      <td>0.029187</td>\n",
              "      <td>2.447822</td>\n",
              "      <td>517.296727</td>\n",
              "      <td>41.546834</td>\n",
              "      <td>0.268072</td>\n",
              "      <td>0.319256</td>\n",
              "      <td>4.004965</td>\n",
              "      <td>37.365700</td>\n",
              "      <td>478.113805</td>\n",
              "      <td>6.423220</td>\n",
              "      <td>6.815150</td>\n",
              "      <td>7947.066342</td>\n",
              "      <td>2.534599</td>\n",
              "      <td>0.300083</td>\n",
              "      <td>0.300083</td>\n",
              "    </tr>\n",
              "    <tr>\n",
              "      <th>min</th>\n",
              "      <td>-2.000000</td>\n",
              "      <td>65.00000</td>\n",
              "      <td>86.600000</td>\n",
              "      <td>0.678039</td>\n",
              "      <td>0.837500</td>\n",
              "      <td>47.800000</td>\n",
              "      <td>1488.000000</td>\n",
              "      <td>61.000000</td>\n",
              "      <td>2.540000</td>\n",
              "      <td>2.070000</td>\n",
              "      <td>7.000000</td>\n",
              "      <td>48.000000</td>\n",
              "      <td>4150.000000</td>\n",
              "      <td>13.000000</td>\n",
              "      <td>16.000000</td>\n",
              "      <td>5118.000000</td>\n",
              "      <td>4.795918</td>\n",
              "      <td>0.000000</td>\n",
              "      <td>0.000000</td>\n",
              "    </tr>\n",
              "    <tr>\n",
              "      <th>25%</th>\n",
              "      <td>0.000000</td>\n",
              "      <td>101.00000</td>\n",
              "      <td>94.500000</td>\n",
              "      <td>0.801538</td>\n",
              "      <td>0.890278</td>\n",
              "      <td>52.000000</td>\n",
              "      <td>2169.000000</td>\n",
              "      <td>98.000000</td>\n",
              "      <td>3.150000</td>\n",
              "      <td>3.110000</td>\n",
              "      <td>8.600000</td>\n",
              "      <td>70.000000</td>\n",
              "      <td>4800.000000</td>\n",
              "      <td>19.000000</td>\n",
              "      <td>25.000000</td>\n",
              "      <td>7775.000000</td>\n",
              "      <td>7.833333</td>\n",
              "      <td>0.000000</td>\n",
              "      <td>1.000000</td>\n",
              "    </tr>\n",
              "    <tr>\n",
              "      <th>50%</th>\n",
              "      <td>1.000000</td>\n",
              "      <td>122.00000</td>\n",
              "      <td>97.000000</td>\n",
              "      <td>0.832292</td>\n",
              "      <td>0.909722</td>\n",
              "      <td>54.100000</td>\n",
              "      <td>2414.000000</td>\n",
              "      <td>120.000000</td>\n",
              "      <td>3.310000</td>\n",
              "      <td>3.290000</td>\n",
              "      <td>9.000000</td>\n",
              "      <td>95.000000</td>\n",
              "      <td>5125.369458</td>\n",
              "      <td>24.000000</td>\n",
              "      <td>30.000000</td>\n",
              "      <td>10295.000000</td>\n",
              "      <td>9.791667</td>\n",
              "      <td>0.000000</td>\n",
              "      <td>1.000000</td>\n",
              "    </tr>\n",
              "    <tr>\n",
              "      <th>75%</th>\n",
              "      <td>2.000000</td>\n",
              "      <td>137.00000</td>\n",
              "      <td>102.400000</td>\n",
              "      <td>0.881788</td>\n",
              "      <td>0.925000</td>\n",
              "      <td>55.500000</td>\n",
              "      <td>2926.000000</td>\n",
              "      <td>141.000000</td>\n",
              "      <td>3.580000</td>\n",
              "      <td>3.410000</td>\n",
              "      <td>9.400000</td>\n",
              "      <td>116.000000</td>\n",
              "      <td>5500.000000</td>\n",
              "      <td>30.000000</td>\n",
              "      <td>34.000000</td>\n",
              "      <td>16500.000000</td>\n",
              "      <td>12.368421</td>\n",
              "      <td>0.000000</td>\n",
              "      <td>1.000000</td>\n",
              "    </tr>\n",
              "    <tr>\n",
              "      <th>max</th>\n",
              "      <td>3.000000</td>\n",
              "      <td>256.00000</td>\n",
              "      <td>120.900000</td>\n",
              "      <td>1.000000</td>\n",
              "      <td>1.000000</td>\n",
              "      <td>59.800000</td>\n",
              "      <td>4066.000000</td>\n",
              "      <td>326.000000</td>\n",
              "      <td>3.940000</td>\n",
              "      <td>4.170000</td>\n",
              "      <td>23.000000</td>\n",
              "      <td>262.000000</td>\n",
              "      <td>6600.000000</td>\n",
              "      <td>49.000000</td>\n",
              "      <td>54.000000</td>\n",
              "      <td>45400.000000</td>\n",
              "      <td>18.076923</td>\n",
              "      <td>1.000000</td>\n",
              "      <td>1.000000</td>\n",
              "    </tr>\n",
              "  </tbody>\n",
              "</table>\n",
              "</div>"
            ],
            "text/plain": [
              "        symboling  normalized-losses  ...      diesel         gas\n",
              "count  201.000000          201.00000  ...  201.000000  201.000000\n",
              "mean     0.840796          122.00000  ...    0.099502    0.900498\n",
              "std      1.254802           31.99625  ...    0.300083    0.300083\n",
              "min     -2.000000           65.00000  ...    0.000000    0.000000\n",
              "25%      0.000000          101.00000  ...    0.000000    1.000000\n",
              "50%      1.000000          122.00000  ...    0.000000    1.000000\n",
              "75%      2.000000          137.00000  ...    0.000000    1.000000\n",
              "max      3.000000          256.00000  ...    1.000000    1.000000\n",
              "\n",
              "[8 rows x 19 columns]"
            ]
          },
          "metadata": {},
          "execution_count": 21
        }
      ]
    },
    {
      "cell_type": "markdown",
      "metadata": {
        "id": "heyu6SP-p5sn"
      },
      "source": [
        "The default setting of \"describe\" skips variables of type object. We can apply the method \"describe\" on the variables of type 'object' as follows:\n"
      ]
    },
    {
      "cell_type": "code",
      "metadata": {
        "scrolled": true,
        "id": "8epq8jUep5sn",
        "colab": {
          "base_uri": "https://localhost:8080/",
          "height": 173
        },
        "outputId": "f2ff22e6-30a2-4397-efc3-326d7a7ac5d9"
      },
      "source": [
        "df.describe(include=['object'])"
      ],
      "execution_count": 22,
      "outputs": [
        {
          "output_type": "execute_result",
          "data": {
            "text/html": [
              "<div>\n",
              "<style scoped>\n",
              "    .dataframe tbody tr th:only-of-type {\n",
              "        vertical-align: middle;\n",
              "    }\n",
              "\n",
              "    .dataframe tbody tr th {\n",
              "        vertical-align: top;\n",
              "    }\n",
              "\n",
              "    .dataframe thead th {\n",
              "        text-align: right;\n",
              "    }\n",
              "</style>\n",
              "<table border=\"1\" class=\"dataframe\">\n",
              "  <thead>\n",
              "    <tr style=\"text-align: right;\">\n",
              "      <th></th>\n",
              "      <th>make</th>\n",
              "      <th>aspiration</th>\n",
              "      <th>num-of-doors</th>\n",
              "      <th>body-style</th>\n",
              "      <th>drive-wheels</th>\n",
              "      <th>engine-location</th>\n",
              "      <th>engine-type</th>\n",
              "      <th>num-of-cylinders</th>\n",
              "      <th>fuel-system</th>\n",
              "      <th>horsepower-binned</th>\n",
              "    </tr>\n",
              "  </thead>\n",
              "  <tbody>\n",
              "    <tr>\n",
              "      <th>count</th>\n",
              "      <td>201</td>\n",
              "      <td>201</td>\n",
              "      <td>201</td>\n",
              "      <td>201</td>\n",
              "      <td>201</td>\n",
              "      <td>201</td>\n",
              "      <td>201</td>\n",
              "      <td>201</td>\n",
              "      <td>201</td>\n",
              "      <td>200</td>\n",
              "    </tr>\n",
              "    <tr>\n",
              "      <th>unique</th>\n",
              "      <td>22</td>\n",
              "      <td>2</td>\n",
              "      <td>2</td>\n",
              "      <td>5</td>\n",
              "      <td>3</td>\n",
              "      <td>2</td>\n",
              "      <td>6</td>\n",
              "      <td>7</td>\n",
              "      <td>8</td>\n",
              "      <td>3</td>\n",
              "    </tr>\n",
              "    <tr>\n",
              "      <th>top</th>\n",
              "      <td>toyota</td>\n",
              "      <td>std</td>\n",
              "      <td>four</td>\n",
              "      <td>sedan</td>\n",
              "      <td>fwd</td>\n",
              "      <td>front</td>\n",
              "      <td>ohc</td>\n",
              "      <td>four</td>\n",
              "      <td>mpfi</td>\n",
              "      <td>Low</td>\n",
              "    </tr>\n",
              "    <tr>\n",
              "      <th>freq</th>\n",
              "      <td>32</td>\n",
              "      <td>165</td>\n",
              "      <td>115</td>\n",
              "      <td>94</td>\n",
              "      <td>118</td>\n",
              "      <td>198</td>\n",
              "      <td>145</td>\n",
              "      <td>157</td>\n",
              "      <td>92</td>\n",
              "      <td>115</td>\n",
              "    </tr>\n",
              "  </tbody>\n",
              "</table>\n",
              "</div>"
            ],
            "text/plain": [
              "          make aspiration  ... fuel-system horsepower-binned\n",
              "count      201        201  ...         201               200\n",
              "unique      22          2  ...           8                 3\n",
              "top     toyota        std  ...        mpfi               Low\n",
              "freq        32        165  ...          92               115\n",
              "\n",
              "[4 rows x 10 columns]"
            ]
          },
          "metadata": {},
          "execution_count": 22
        }
      ]
    },
    {
      "cell_type": "markdown",
      "metadata": {
        "id": "KsmJ2MHdp5sn"
      },
      "source": [
        "<h3>Value Counts</h3>\n"
      ]
    },
    {
      "cell_type": "code",
      "metadata": {
        "id": "-JjdQgQWp5sn",
        "colab": {
          "base_uri": "https://localhost:8080/"
        },
        "outputId": "51a1d0d3-6e53-4444-a074-8b71af34f797"
      },
      "source": [
        "df['drive-wheels'].value_counts()"
      ],
      "execution_count": 23,
      "outputs": [
        {
          "output_type": "execute_result",
          "data": {
            "text/plain": [
              "fwd    118\n",
              "rwd     75\n",
              "4wd      8\n",
              "Name: drive-wheels, dtype: int64"
            ]
          },
          "metadata": {},
          "execution_count": 23
        }
      ]
    },
    {
      "cell_type": "markdown",
      "metadata": {
        "id": "WCZ3dDd-p5sn"
      },
      "source": [
        "We can convert the series to a dataframe as follows:\n"
      ]
    },
    {
      "cell_type": "code",
      "metadata": {
        "id": "hwMIdZUzp5sn",
        "colab": {
          "base_uri": "https://localhost:8080/",
          "height": 142
        },
        "outputId": "cbca4a29-2abd-44d7-e6ff-55e7670c5b12"
      },
      "source": [
        "df['drive-wheels'].value_counts().to_frame()"
      ],
      "execution_count": 24,
      "outputs": [
        {
          "output_type": "execute_result",
          "data": {
            "text/html": [
              "<div>\n",
              "<style scoped>\n",
              "    .dataframe tbody tr th:only-of-type {\n",
              "        vertical-align: middle;\n",
              "    }\n",
              "\n",
              "    .dataframe tbody tr th {\n",
              "        vertical-align: top;\n",
              "    }\n",
              "\n",
              "    .dataframe thead th {\n",
              "        text-align: right;\n",
              "    }\n",
              "</style>\n",
              "<table border=\"1\" class=\"dataframe\">\n",
              "  <thead>\n",
              "    <tr style=\"text-align: right;\">\n",
              "      <th></th>\n",
              "      <th>drive-wheels</th>\n",
              "    </tr>\n",
              "  </thead>\n",
              "  <tbody>\n",
              "    <tr>\n",
              "      <th>fwd</th>\n",
              "      <td>118</td>\n",
              "    </tr>\n",
              "    <tr>\n",
              "      <th>rwd</th>\n",
              "      <td>75</td>\n",
              "    </tr>\n",
              "    <tr>\n",
              "      <th>4wd</th>\n",
              "      <td>8</td>\n",
              "    </tr>\n",
              "  </tbody>\n",
              "</table>\n",
              "</div>"
            ],
            "text/plain": [
              "     drive-wheels\n",
              "fwd           118\n",
              "rwd            75\n",
              "4wd             8"
            ]
          },
          "metadata": {},
          "execution_count": 24
        }
      ]
    },
    {
      "cell_type": "code",
      "metadata": {
        "id": "4_7nXrNJp5sn",
        "colab": {
          "base_uri": "https://localhost:8080/",
          "height": 142
        },
        "outputId": "b6269011-4ec7-4035-9787-50a541e8f839"
      },
      "source": [
        "drive_wheels_counts = df['drive-wheels'].value_counts().to_frame()\n",
        "drive_wheels_counts.rename(columns={'drive-wheels': 'value_counts'}, inplace=True)\n",
        "drive_wheels_counts"
      ],
      "execution_count": 25,
      "outputs": [
        {
          "output_type": "execute_result",
          "data": {
            "text/html": [
              "<div>\n",
              "<style scoped>\n",
              "    .dataframe tbody tr th:only-of-type {\n",
              "        vertical-align: middle;\n",
              "    }\n",
              "\n",
              "    .dataframe tbody tr th {\n",
              "        vertical-align: top;\n",
              "    }\n",
              "\n",
              "    .dataframe thead th {\n",
              "        text-align: right;\n",
              "    }\n",
              "</style>\n",
              "<table border=\"1\" class=\"dataframe\">\n",
              "  <thead>\n",
              "    <tr style=\"text-align: right;\">\n",
              "      <th></th>\n",
              "      <th>value_counts</th>\n",
              "    </tr>\n",
              "  </thead>\n",
              "  <tbody>\n",
              "    <tr>\n",
              "      <th>fwd</th>\n",
              "      <td>118</td>\n",
              "    </tr>\n",
              "    <tr>\n",
              "      <th>rwd</th>\n",
              "      <td>75</td>\n",
              "    </tr>\n",
              "    <tr>\n",
              "      <th>4wd</th>\n",
              "      <td>8</td>\n",
              "    </tr>\n",
              "  </tbody>\n",
              "</table>\n",
              "</div>"
            ],
            "text/plain": [
              "     value_counts\n",
              "fwd           118\n",
              "rwd            75\n",
              "4wd             8"
            ]
          },
          "metadata": {},
          "execution_count": 25
        }
      ]
    },
    {
      "cell_type": "code",
      "metadata": {
        "id": "LxfroHwkp5sn",
        "colab": {
          "base_uri": "https://localhost:8080/",
          "height": 173
        },
        "outputId": "ef23f74c-f692-4b24-e26f-eff29a548fc8"
      },
      "source": [
        "drive_wheels_counts.index.name = 'drive-wheels'\n",
        "drive_wheels_counts"
      ],
      "execution_count": 26,
      "outputs": [
        {
          "output_type": "execute_result",
          "data": {
            "text/html": [
              "<div>\n",
              "<style scoped>\n",
              "    .dataframe tbody tr th:only-of-type {\n",
              "        vertical-align: middle;\n",
              "    }\n",
              "\n",
              "    .dataframe tbody tr th {\n",
              "        vertical-align: top;\n",
              "    }\n",
              "\n",
              "    .dataframe thead th {\n",
              "        text-align: right;\n",
              "    }\n",
              "</style>\n",
              "<table border=\"1\" class=\"dataframe\">\n",
              "  <thead>\n",
              "    <tr style=\"text-align: right;\">\n",
              "      <th></th>\n",
              "      <th>value_counts</th>\n",
              "    </tr>\n",
              "    <tr>\n",
              "      <th>drive-wheels</th>\n",
              "      <th></th>\n",
              "    </tr>\n",
              "  </thead>\n",
              "  <tbody>\n",
              "    <tr>\n",
              "      <th>fwd</th>\n",
              "      <td>118</td>\n",
              "    </tr>\n",
              "    <tr>\n",
              "      <th>rwd</th>\n",
              "      <td>75</td>\n",
              "    </tr>\n",
              "    <tr>\n",
              "      <th>4wd</th>\n",
              "      <td>8</td>\n",
              "    </tr>\n",
              "  </tbody>\n",
              "</table>\n",
              "</div>"
            ],
            "text/plain": [
              "              value_counts\n",
              "drive-wheels              \n",
              "fwd                    118\n",
              "rwd                     75\n",
              "4wd                      8"
            ]
          },
          "metadata": {},
          "execution_count": 26
        }
      ]
    },
    {
      "cell_type": "markdown",
      "metadata": {
        "id": "_KyGNu1Jp5sn"
      },
      "source": [
        "We can repeat the above process for the variable 'engine-location'.\n"
      ]
    },
    {
      "cell_type": "code",
      "metadata": {
        "id": "PtYsv9eXp5sn",
        "colab": {
          "base_uri": "https://localhost:8080/",
          "height": 142
        },
        "outputId": "67a4f85c-e137-43cb-b1b1-d2aeb825876e"
      },
      "source": [
        "# engine-location as variable\n",
        "engine_loc_counts = df['engine-location'].value_counts().to_frame()\n",
        "engine_loc_counts.rename(columns={'engine-location': 'value_counts'}, inplace=True)\n",
        "engine_loc_counts.index.name = 'engine-location'\n",
        "engine_loc_counts.head(10)"
      ],
      "execution_count": 27,
      "outputs": [
        {
          "output_type": "execute_result",
          "data": {
            "text/html": [
              "<div>\n",
              "<style scoped>\n",
              "    .dataframe tbody tr th:only-of-type {\n",
              "        vertical-align: middle;\n",
              "    }\n",
              "\n",
              "    .dataframe tbody tr th {\n",
              "        vertical-align: top;\n",
              "    }\n",
              "\n",
              "    .dataframe thead th {\n",
              "        text-align: right;\n",
              "    }\n",
              "</style>\n",
              "<table border=\"1\" class=\"dataframe\">\n",
              "  <thead>\n",
              "    <tr style=\"text-align: right;\">\n",
              "      <th></th>\n",
              "      <th>value_counts</th>\n",
              "    </tr>\n",
              "    <tr>\n",
              "      <th>engine-location</th>\n",
              "      <th></th>\n",
              "    </tr>\n",
              "  </thead>\n",
              "  <tbody>\n",
              "    <tr>\n",
              "      <th>front</th>\n",
              "      <td>198</td>\n",
              "    </tr>\n",
              "    <tr>\n",
              "      <th>rear</th>\n",
              "      <td>3</td>\n",
              "    </tr>\n",
              "  </tbody>\n",
              "</table>\n",
              "</div>"
            ],
            "text/plain": [
              "                 value_counts\n",
              "engine-location              \n",
              "front                     198\n",
              "rear                        3"
            ]
          },
          "metadata": {},
          "execution_count": 27
        }
      ]
    },
    {
      "cell_type": "markdown",
      "metadata": {
        "id": "lvsbwkVep5sn"
      },
      "source": [
        "<p>After examining the value counts of the engine location, we see that engine location would not be a good predictor variable for the price. This is because we only have three cars with a rear engine and 198 with an engine in the front, so this result is skewed. Thus, we are not able to draw any conclusions about the engine location.</p>\n"
      ]
    },
    {
      "cell_type": "markdown",
      "metadata": {
        "id": "eWI5Ta47p5so"
      },
      "source": [
        "<h2 id=\"basic_grouping\">4. Grouping</h2>\n"
      ]
    },
    {
      "cell_type": "code",
      "metadata": {
        "id": "wy96ZuhXp5so",
        "colab": {
          "base_uri": "https://localhost:8080/"
        },
        "outputId": "2af1e9b6-f094-4af7-8ab3-86f614a1564c"
      },
      "source": [
        "df['drive-wheels'].unique()"
      ],
      "execution_count": 28,
      "outputs": [
        {
          "output_type": "execute_result",
          "data": {
            "text/plain": [
              "array(['rwd', 'fwd', '4wd'], dtype=object)"
            ]
          },
          "metadata": {},
          "execution_count": 28
        }
      ]
    },
    {
      "cell_type": "code",
      "metadata": {
        "id": "vLAhmprYp5so"
      },
      "source": [
        "df_group_one = df[['drive-wheels','body-style','price']]"
      ],
      "execution_count": 29,
      "outputs": []
    },
    {
      "cell_type": "markdown",
      "metadata": {
        "id": "v6m-rd9Wp5so"
      },
      "source": [
        "We can then calculate the average price for each of the different categories of data.\n"
      ]
    },
    {
      "cell_type": "code",
      "metadata": {
        "id": "nCni9mf7p5so",
        "colab": {
          "base_uri": "https://localhost:8080/",
          "height": 142
        },
        "outputId": "52579771-8bb0-48d3-8c54-8b953f6f8eed"
      },
      "source": [
        "# grouping results\n",
        "df_group_one = df_group_one.groupby(['drive-wheels'],as_index=False).mean()\n",
        "df_group_one"
      ],
      "execution_count": 30,
      "outputs": [
        {
          "output_type": "execute_result",
          "data": {
            "text/html": [
              "<div>\n",
              "<style scoped>\n",
              "    .dataframe tbody tr th:only-of-type {\n",
              "        vertical-align: middle;\n",
              "    }\n",
              "\n",
              "    .dataframe tbody tr th {\n",
              "        vertical-align: top;\n",
              "    }\n",
              "\n",
              "    .dataframe thead th {\n",
              "        text-align: right;\n",
              "    }\n",
              "</style>\n",
              "<table border=\"1\" class=\"dataframe\">\n",
              "  <thead>\n",
              "    <tr style=\"text-align: right;\">\n",
              "      <th></th>\n",
              "      <th>drive-wheels</th>\n",
              "      <th>price</th>\n",
              "    </tr>\n",
              "  </thead>\n",
              "  <tbody>\n",
              "    <tr>\n",
              "      <th>0</th>\n",
              "      <td>4wd</td>\n",
              "      <td>10241.000000</td>\n",
              "    </tr>\n",
              "    <tr>\n",
              "      <th>1</th>\n",
              "      <td>fwd</td>\n",
              "      <td>9244.779661</td>\n",
              "    </tr>\n",
              "    <tr>\n",
              "      <th>2</th>\n",
              "      <td>rwd</td>\n",
              "      <td>19757.613333</td>\n",
              "    </tr>\n",
              "  </tbody>\n",
              "</table>\n",
              "</div>"
            ],
            "text/plain": [
              "  drive-wheels         price\n",
              "0          4wd  10241.000000\n",
              "1          fwd   9244.779661\n",
              "2          rwd  19757.613333"
            ]
          },
          "metadata": {},
          "execution_count": 30
        }
      ]
    },
    {
      "cell_type": "markdown",
      "metadata": {
        "id": "PwcTh6n9p5so"
      },
      "source": [
        "<p>From our data, it seems rear-wheel drive vehicles are, on average, the most expensive, while 4-wheel and front-wheel are approximately the same in price.</p>\n",
        "\n",
        "<p>You can also group by multiple variables. For example, let's group by both 'drive-wheels' and 'body-style'. This groups the dataframe by the unique combination of 'drive-wheels' and 'body-style'. We can store the results in the variable 'grouped_test1'.</p>\n"
      ]
    },
    {
      "cell_type": "code",
      "metadata": {
        "id": "WronFxXRp5so",
        "colab": {
          "base_uri": "https://localhost:8080/",
          "height": 452
        },
        "outputId": "f73f3da7-6c28-4457-f5a1-26c702ab3495"
      },
      "source": [
        "# grouping results\n",
        "df_gptest = df[['drive-wheels','body-style','price']]\n",
        "grouped_test1 = df_gptest.groupby(['drive-wheels','body-style'],as_index=False).mean()\n",
        "grouped_test1"
      ],
      "execution_count": 31,
      "outputs": [
        {
          "output_type": "execute_result",
          "data": {
            "text/html": [
              "<div>\n",
              "<style scoped>\n",
              "    .dataframe tbody tr th:only-of-type {\n",
              "        vertical-align: middle;\n",
              "    }\n",
              "\n",
              "    .dataframe tbody tr th {\n",
              "        vertical-align: top;\n",
              "    }\n",
              "\n",
              "    .dataframe thead th {\n",
              "        text-align: right;\n",
              "    }\n",
              "</style>\n",
              "<table border=\"1\" class=\"dataframe\">\n",
              "  <thead>\n",
              "    <tr style=\"text-align: right;\">\n",
              "      <th></th>\n",
              "      <th>drive-wheels</th>\n",
              "      <th>body-style</th>\n",
              "      <th>price</th>\n",
              "    </tr>\n",
              "  </thead>\n",
              "  <tbody>\n",
              "    <tr>\n",
              "      <th>0</th>\n",
              "      <td>4wd</td>\n",
              "      <td>hatchback</td>\n",
              "      <td>7603.000000</td>\n",
              "    </tr>\n",
              "    <tr>\n",
              "      <th>1</th>\n",
              "      <td>4wd</td>\n",
              "      <td>sedan</td>\n",
              "      <td>12647.333333</td>\n",
              "    </tr>\n",
              "    <tr>\n",
              "      <th>2</th>\n",
              "      <td>4wd</td>\n",
              "      <td>wagon</td>\n",
              "      <td>9095.750000</td>\n",
              "    </tr>\n",
              "    <tr>\n",
              "      <th>3</th>\n",
              "      <td>fwd</td>\n",
              "      <td>convertible</td>\n",
              "      <td>11595.000000</td>\n",
              "    </tr>\n",
              "    <tr>\n",
              "      <th>4</th>\n",
              "      <td>fwd</td>\n",
              "      <td>hardtop</td>\n",
              "      <td>8249.000000</td>\n",
              "    </tr>\n",
              "    <tr>\n",
              "      <th>5</th>\n",
              "      <td>fwd</td>\n",
              "      <td>hatchback</td>\n",
              "      <td>8396.387755</td>\n",
              "    </tr>\n",
              "    <tr>\n",
              "      <th>6</th>\n",
              "      <td>fwd</td>\n",
              "      <td>sedan</td>\n",
              "      <td>9811.800000</td>\n",
              "    </tr>\n",
              "    <tr>\n",
              "      <th>7</th>\n",
              "      <td>fwd</td>\n",
              "      <td>wagon</td>\n",
              "      <td>9997.333333</td>\n",
              "    </tr>\n",
              "    <tr>\n",
              "      <th>8</th>\n",
              "      <td>rwd</td>\n",
              "      <td>convertible</td>\n",
              "      <td>23949.600000</td>\n",
              "    </tr>\n",
              "    <tr>\n",
              "      <th>9</th>\n",
              "      <td>rwd</td>\n",
              "      <td>hardtop</td>\n",
              "      <td>24202.714286</td>\n",
              "    </tr>\n",
              "    <tr>\n",
              "      <th>10</th>\n",
              "      <td>rwd</td>\n",
              "      <td>hatchback</td>\n",
              "      <td>14337.777778</td>\n",
              "    </tr>\n",
              "    <tr>\n",
              "      <th>11</th>\n",
              "      <td>rwd</td>\n",
              "      <td>sedan</td>\n",
              "      <td>21711.833333</td>\n",
              "    </tr>\n",
              "    <tr>\n",
              "      <th>12</th>\n",
              "      <td>rwd</td>\n",
              "      <td>wagon</td>\n",
              "      <td>16994.222222</td>\n",
              "    </tr>\n",
              "  </tbody>\n",
              "</table>\n",
              "</div>"
            ],
            "text/plain": [
              "   drive-wheels   body-style         price\n",
              "0           4wd    hatchback   7603.000000\n",
              "1           4wd        sedan  12647.333333\n",
              "2           4wd        wagon   9095.750000\n",
              "3           fwd  convertible  11595.000000\n",
              "4           fwd      hardtop   8249.000000\n",
              "5           fwd    hatchback   8396.387755\n",
              "6           fwd        sedan   9811.800000\n",
              "7           fwd        wagon   9997.333333\n",
              "8           rwd  convertible  23949.600000\n",
              "9           rwd      hardtop  24202.714286\n",
              "10          rwd    hatchback  14337.777778\n",
              "11          rwd        sedan  21711.833333\n",
              "12          rwd        wagon  16994.222222"
            ]
          },
          "metadata": {},
          "execution_count": 31
        }
      ]
    },
    {
      "cell_type": "code",
      "metadata": {
        "id": "piMoU_YRp5so",
        "colab": {
          "base_uri": "https://localhost:8080/",
          "height": 204
        },
        "outputId": "2be9a5b2-ee00-43fc-da5b-aebed348a334"
      },
      "source": [
        "grouped_pivot = grouped_test1.pivot(index='drive-wheels',columns='body-style')\n",
        "grouped_pivot"
      ],
      "execution_count": 32,
      "outputs": [
        {
          "output_type": "execute_result",
          "data": {
            "text/html": [
              "<div>\n",
              "<style scoped>\n",
              "    .dataframe tbody tr th:only-of-type {\n",
              "        vertical-align: middle;\n",
              "    }\n",
              "\n",
              "    .dataframe tbody tr th {\n",
              "        vertical-align: top;\n",
              "    }\n",
              "\n",
              "    .dataframe thead tr th {\n",
              "        text-align: left;\n",
              "    }\n",
              "\n",
              "    .dataframe thead tr:last-of-type th {\n",
              "        text-align: right;\n",
              "    }\n",
              "</style>\n",
              "<table border=\"1\" class=\"dataframe\">\n",
              "  <thead>\n",
              "    <tr>\n",
              "      <th></th>\n",
              "      <th colspan=\"5\" halign=\"left\">price</th>\n",
              "    </tr>\n",
              "    <tr>\n",
              "      <th>body-style</th>\n",
              "      <th>convertible</th>\n",
              "      <th>hardtop</th>\n",
              "      <th>hatchback</th>\n",
              "      <th>sedan</th>\n",
              "      <th>wagon</th>\n",
              "    </tr>\n",
              "    <tr>\n",
              "      <th>drive-wheels</th>\n",
              "      <th></th>\n",
              "      <th></th>\n",
              "      <th></th>\n",
              "      <th></th>\n",
              "      <th></th>\n",
              "    </tr>\n",
              "  </thead>\n",
              "  <tbody>\n",
              "    <tr>\n",
              "      <th>4wd</th>\n",
              "      <td>NaN</td>\n",
              "      <td>NaN</td>\n",
              "      <td>7603.000000</td>\n",
              "      <td>12647.333333</td>\n",
              "      <td>9095.750000</td>\n",
              "    </tr>\n",
              "    <tr>\n",
              "      <th>fwd</th>\n",
              "      <td>11595.0</td>\n",
              "      <td>8249.000000</td>\n",
              "      <td>8396.387755</td>\n",
              "      <td>9811.800000</td>\n",
              "      <td>9997.333333</td>\n",
              "    </tr>\n",
              "    <tr>\n",
              "      <th>rwd</th>\n",
              "      <td>23949.6</td>\n",
              "      <td>24202.714286</td>\n",
              "      <td>14337.777778</td>\n",
              "      <td>21711.833333</td>\n",
              "      <td>16994.222222</td>\n",
              "    </tr>\n",
              "  </tbody>\n",
              "</table>\n",
              "</div>"
            ],
            "text/plain": [
              "                   price                ...                            \n",
              "body-style   convertible       hardtop  ...         sedan         wagon\n",
              "drive-wheels                            ...                            \n",
              "4wd                  NaN           NaN  ...  12647.333333   9095.750000\n",
              "fwd              11595.0   8249.000000  ...   9811.800000   9997.333333\n",
              "rwd              23949.6  24202.714286  ...  21711.833333  16994.222222\n",
              "\n",
              "[3 rows x 5 columns]"
            ]
          },
          "metadata": {},
          "execution_count": 32
        }
      ]
    },
    {
      "cell_type": "code",
      "metadata": {
        "scrolled": true,
        "id": "olfeNZQ1p5sp",
        "colab": {
          "base_uri": "https://localhost:8080/",
          "height": 204
        },
        "outputId": "968f8dda-6768-4c99-e1b7-54c073a093c2"
      },
      "source": [
        "grouped_pivot = grouped_pivot.fillna(0) #fill missing values with 0\n",
        "grouped_pivot"
      ],
      "execution_count": 33,
      "outputs": [
        {
          "output_type": "execute_result",
          "data": {
            "text/html": [
              "<div>\n",
              "<style scoped>\n",
              "    .dataframe tbody tr th:only-of-type {\n",
              "        vertical-align: middle;\n",
              "    }\n",
              "\n",
              "    .dataframe tbody tr th {\n",
              "        vertical-align: top;\n",
              "    }\n",
              "\n",
              "    .dataframe thead tr th {\n",
              "        text-align: left;\n",
              "    }\n",
              "\n",
              "    .dataframe thead tr:last-of-type th {\n",
              "        text-align: right;\n",
              "    }\n",
              "</style>\n",
              "<table border=\"1\" class=\"dataframe\">\n",
              "  <thead>\n",
              "    <tr>\n",
              "      <th></th>\n",
              "      <th colspan=\"5\" halign=\"left\">price</th>\n",
              "    </tr>\n",
              "    <tr>\n",
              "      <th>body-style</th>\n",
              "      <th>convertible</th>\n",
              "      <th>hardtop</th>\n",
              "      <th>hatchback</th>\n",
              "      <th>sedan</th>\n",
              "      <th>wagon</th>\n",
              "    </tr>\n",
              "    <tr>\n",
              "      <th>drive-wheels</th>\n",
              "      <th></th>\n",
              "      <th></th>\n",
              "      <th></th>\n",
              "      <th></th>\n",
              "      <th></th>\n",
              "    </tr>\n",
              "  </thead>\n",
              "  <tbody>\n",
              "    <tr>\n",
              "      <th>4wd</th>\n",
              "      <td>0.0</td>\n",
              "      <td>0.000000</td>\n",
              "      <td>7603.000000</td>\n",
              "      <td>12647.333333</td>\n",
              "      <td>9095.750000</td>\n",
              "    </tr>\n",
              "    <tr>\n",
              "      <th>fwd</th>\n",
              "      <td>11595.0</td>\n",
              "      <td>8249.000000</td>\n",
              "      <td>8396.387755</td>\n",
              "      <td>9811.800000</td>\n",
              "      <td>9997.333333</td>\n",
              "    </tr>\n",
              "    <tr>\n",
              "      <th>rwd</th>\n",
              "      <td>23949.6</td>\n",
              "      <td>24202.714286</td>\n",
              "      <td>14337.777778</td>\n",
              "      <td>21711.833333</td>\n",
              "      <td>16994.222222</td>\n",
              "    </tr>\n",
              "  </tbody>\n",
              "</table>\n",
              "</div>"
            ],
            "text/plain": [
              "                   price                ...                            \n",
              "body-style   convertible       hardtop  ...         sedan         wagon\n",
              "drive-wheels                            ...                            \n",
              "4wd                  0.0      0.000000  ...  12647.333333   9095.750000\n",
              "fwd              11595.0   8249.000000  ...   9811.800000   9997.333333\n",
              "rwd              23949.6  24202.714286  ...  21711.833333  16994.222222\n",
              "\n",
              "[3 rows x 5 columns]"
            ]
          },
          "metadata": {},
          "execution_count": 33
        }
      ]
    },
    {
      "cell_type": "code",
      "metadata": {
        "id": "1yEE477Op5sp",
        "colab": {
          "base_uri": "https://localhost:8080/",
          "height": 204
        },
        "outputId": "0d9f2542-8524-42ad-9c07-31791a084323"
      },
      "source": [
        "df_gptest1 = df[['body-style','price']]\n",
        "grouped_test2 = df_gptest1.groupby(['body-style'],as_index=False).mean()\n",
        "grouped_test2"
      ],
      "execution_count": 34,
      "outputs": [
        {
          "output_type": "execute_result",
          "data": {
            "text/html": [
              "<div>\n",
              "<style scoped>\n",
              "    .dataframe tbody tr th:only-of-type {\n",
              "        vertical-align: middle;\n",
              "    }\n",
              "\n",
              "    .dataframe tbody tr th {\n",
              "        vertical-align: top;\n",
              "    }\n",
              "\n",
              "    .dataframe thead th {\n",
              "        text-align: right;\n",
              "    }\n",
              "</style>\n",
              "<table border=\"1\" class=\"dataframe\">\n",
              "  <thead>\n",
              "    <tr style=\"text-align: right;\">\n",
              "      <th></th>\n",
              "      <th>body-style</th>\n",
              "      <th>price</th>\n",
              "    </tr>\n",
              "  </thead>\n",
              "  <tbody>\n",
              "    <tr>\n",
              "      <th>0</th>\n",
              "      <td>convertible</td>\n",
              "      <td>21890.500000</td>\n",
              "    </tr>\n",
              "    <tr>\n",
              "      <th>1</th>\n",
              "      <td>hardtop</td>\n",
              "      <td>22208.500000</td>\n",
              "    </tr>\n",
              "    <tr>\n",
              "      <th>2</th>\n",
              "      <td>hatchback</td>\n",
              "      <td>9957.441176</td>\n",
              "    </tr>\n",
              "    <tr>\n",
              "      <th>3</th>\n",
              "      <td>sedan</td>\n",
              "      <td>14459.755319</td>\n",
              "    </tr>\n",
              "    <tr>\n",
              "      <th>4</th>\n",
              "      <td>wagon</td>\n",
              "      <td>12371.960000</td>\n",
              "    </tr>\n",
              "  </tbody>\n",
              "</table>\n",
              "</div>"
            ],
            "text/plain": [
              "    body-style         price\n",
              "0  convertible  21890.500000\n",
              "1      hardtop  22208.500000\n",
              "2    hatchback   9957.441176\n",
              "3        sedan  14459.755319\n",
              "4        wagon  12371.960000"
            ]
          },
          "metadata": {},
          "execution_count": 34
        }
      ]
    },
    {
      "cell_type": "code",
      "metadata": {
        "id": "DxM3tbBIp5sp"
      },
      "source": [
        "import matplotlib.pyplot as plt\n",
        "%matplotlib inline "
      ],
      "execution_count": 35,
      "outputs": []
    },
    {
      "cell_type": "markdown",
      "metadata": {
        "id": "mgsm-EL5p5sp"
      },
      "source": [
        "Let's use a heat map to visualize the relationship between Body Style vs Price.\n"
      ]
    },
    {
      "cell_type": "code",
      "metadata": {
        "id": "d83MDGYrp5sp",
        "colab": {
          "base_uri": "https://localhost:8080/",
          "height": 269
        },
        "outputId": "d26243f4-5196-4cb4-e7a5-b4e4181bcd5e"
      },
      "source": [
        "#use the grouped results\n",
        "plt.pcolor(grouped_pivot, cmap='RdBu')\n",
        "plt.colorbar()\n",
        "plt.show()"
      ],
      "execution_count": 36,
      "outputs": [
        {
          "output_type": "display_data",
          "data": {
            "image/png": "[encoded data removed]",
            "text/plain": [
              "<Figure size 432x288 with 2 Axes>"
            ]
          },
          "metadata": {
            "needs_background": "light"
          }
        }
      ]
    },
    {
      "cell_type": "code",
      "metadata": {
        "id": "JhkwoYDEp5sp",
        "colab": {
          "base_uri": "https://localhost:8080/",
          "height": 311
        },
        "outputId": "22294a39-3f03-4557-eea4-415e3617c535"
      },
      "source": [
        "fig, ax = plt.subplots()\n",
        "im = ax.pcolor(grouped_pivot, cmap='RdBu')\n",
        "\n",
        "#label names\n",
        "row_labels = grouped_pivot.columns.levels[1]\n",
        "col_labels = grouped_pivot.index\n",
        "\n",
        "#move ticks and labels to the center\n",
        "ax.set_xticks(np.arange(grouped_pivot.shape[1]) + 0.5, minor=False)\n",
        "ax.set_yticks(np.arange(grouped_pivot.shape[0]) + 0.5, minor=False)\n",
        "\n",
        "#insert labels\n",
        "ax.set_xticklabels(row_labels, minor=False)\n",
        "ax.set_yticklabels(col_labels, minor=False)\n",
        "\n",
        "#rotate label if too long\n",
        "plt.xticks(rotation=90)\n",
        "\n",
        "fig.colorbar(im)\n",
        "plt.show()"
      ],
      "execution_count": 37,
      "outputs": [
        {
          "output_type": "display_data",
          "data": {
            "image/png": "[encoded data removed]",
            "text/plain": [
              "<Figure size 432x288 with 2 Axes>"
            ]
          },
          "metadata": {
            "needs_background": "light"
          }
        }
      ]
    },
    {
      "cell_type": "markdown",
      "metadata": {
        "id": "BafyYLdrp5sp"
      },
      "source": [
        "<h2 id=\"correlation_causation\">5. Correlation and Causation</h2>\n"
      ]
    },
    {
      "cell_type": "code",
      "metadata": {
        "id": "3b4BHDLup5sq",
        "colab": {
          "base_uri": "https://localhost:8080/",
          "height": 709
        },
        "outputId": "4a7edd0e-e07b-4add-f356-abe8d904b6f9"
      },
      "source": [
        "\n",
        "df.corr()"
      ],
      "execution_count": 38,
      "outputs": [
        {
          "output_type": "execute_result",
          "data": {
            "text/html": [
              "<div>\n",
              "<style scoped>\n",
              "    .dataframe tbody tr th:only-of-type {\n",
              "        vertical-align: middle;\n",
              "    }\n",
              "\n",
              "    .dataframe tbody tr th {\n",
              "        vertical-align: top;\n",
              "    }\n",
              "\n",
              "    .dataframe thead th {\n",
              "        text-align: right;\n",
              "    }\n",
              "</style>\n",
              "<table border=\"1\" class=\"dataframe\">\n",
              "  <thead>\n",
              "    <tr style=\"text-align: right;\">\n",
              "      <th></th>\n",
              "      <th>symboling</th>\n",
              "      <th>normalized-losses</th>\n",
              "      <th>wheel-base</th>\n",
              "      <th>length</th>\n",
              "      <th>width</th>\n",
              "      <th>height</th>\n",
              "      <th>curb-weight</th>\n",
              "      <th>engine-size</th>\n",
              "      <th>bore</th>\n",
              "      <th>stroke</th>\n",
              "      <th>compression-ratio</th>\n",
              "      <th>horsepower</th>\n",
              "      <th>peak-rpm</th>\n",
              "      <th>city-mpg</th>\n",
              "      <th>highway-mpg</th>\n",
              "      <th>price</th>\n",
              "      <th>city-L/100km</th>\n",
              "      <th>diesel</th>\n",
              "      <th>gas</th>\n",
              "    </tr>\n",
              "  </thead>\n",
              "  <tbody>\n",
              "    <tr>\n",
              "      <th>symboling</th>\n",
              "      <td>1.000000</td>\n",
              "      <td>0.466264</td>\n",
              "      <td>-0.535987</td>\n",
              "      <td>-0.365404</td>\n",
              "      <td>-0.242423</td>\n",
              "      <td>-0.550160</td>\n",
              "      <td>-0.233118</td>\n",
              "      <td>-0.110581</td>\n",
              "      <td>-0.140019</td>\n",
              "      <td>-0.008245</td>\n",
              "      <td>-0.182196</td>\n",
              "      <td>0.075819</td>\n",
              "      <td>0.279740</td>\n",
              "      <td>-0.035527</td>\n",
              "      <td>0.036233</td>\n",
              "      <td>-0.082391</td>\n",
              "      <td>0.066171</td>\n",
              "      <td>-0.196735</td>\n",
              "      <td>0.196735</td>\n",
              "    </tr>\n",
              "    <tr>\n",
              "      <th>normalized-losses</th>\n",
              "      <td>0.466264</td>\n",
              "      <td>1.000000</td>\n",
              "      <td>-0.056661</td>\n",
              "      <td>0.019424</td>\n",
              "      <td>0.086802</td>\n",
              "      <td>-0.373737</td>\n",
              "      <td>0.099404</td>\n",
              "      <td>0.112360</td>\n",
              "      <td>-0.029862</td>\n",
              "      <td>0.055563</td>\n",
              "      <td>-0.114713</td>\n",
              "      <td>0.217299</td>\n",
              "      <td>0.239543</td>\n",
              "      <td>-0.225016</td>\n",
              "      <td>-0.181877</td>\n",
              "      <td>0.133999</td>\n",
              "      <td>0.238567</td>\n",
              "      <td>-0.101546</td>\n",
              "      <td>0.101546</td>\n",
              "    </tr>\n",
              "    <tr>\n",
              "      <th>wheel-base</th>\n",
              "      <td>-0.535987</td>\n",
              "      <td>-0.056661</td>\n",
              "      <td>1.000000</td>\n",
              "      <td>0.876024</td>\n",
              "      <td>0.814507</td>\n",
              "      <td>0.590742</td>\n",
              "      <td>0.782097</td>\n",
              "      <td>0.572027</td>\n",
              "      <td>0.493244</td>\n",
              "      <td>0.158502</td>\n",
              "      <td>0.250313</td>\n",
              "      <td>0.371147</td>\n",
              "      <td>-0.360305</td>\n",
              "      <td>-0.470606</td>\n",
              "      <td>-0.543304</td>\n",
              "      <td>0.584642</td>\n",
              "      <td>0.476153</td>\n",
              "      <td>0.307237</td>\n",
              "      <td>-0.307237</td>\n",
              "    </tr>\n",
              "    <tr>\n",
              "      <th>length</th>\n",
              "      <td>-0.365404</td>\n",
              "      <td>0.019424</td>\n",
              "      <td>0.876024</td>\n",
              "      <td>1.000000</td>\n",
              "      <td>0.857170</td>\n",
              "      <td>0.492063</td>\n",
              "      <td>0.880665</td>\n",
              "      <td>0.685025</td>\n",
              "      <td>0.608971</td>\n",
              "      <td>0.124139</td>\n",
              "      <td>0.159733</td>\n",
              "      <td>0.579821</td>\n",
              "      <td>-0.285970</td>\n",
              "      <td>-0.665192</td>\n",
              "      <td>-0.698142</td>\n",
              "      <td>0.690628</td>\n",
              "      <td>0.657373</td>\n",
              "      <td>0.211187</td>\n",
              "      <td>-0.211187</td>\n",
              "    </tr>\n",
              "    <tr>\n",
              "      <th>width</th>\n",
              "      <td>-0.242423</td>\n",
              "      <td>0.086802</td>\n",
              "      <td>0.814507</td>\n",
              "      <td>0.857170</td>\n",
              "      <td>1.000000</td>\n",
              "      <td>0.306002</td>\n",
              "      <td>0.866201</td>\n",
              "      <td>0.729436</td>\n",
              "      <td>0.544885</td>\n",
              "      <td>0.188829</td>\n",
              "      <td>0.189867</td>\n",
              "      <td>0.615077</td>\n",
              "      <td>-0.245800</td>\n",
              "      <td>-0.633531</td>\n",
              "      <td>-0.680635</td>\n",
              "      <td>0.751265</td>\n",
              "      <td>0.673363</td>\n",
              "      <td>0.244356</td>\n",
              "      <td>-0.244356</td>\n",
              "    </tr>\n",
              "    <tr>\n",
              "      <th>height</th>\n",
              "      <td>-0.550160</td>\n",
              "      <td>-0.373737</td>\n",
              "      <td>0.590742</td>\n",
              "      <td>0.492063</td>\n",
              "      <td>0.306002</td>\n",
              "      <td>1.000000</td>\n",
              "      <td>0.307581</td>\n",
              "      <td>0.074694</td>\n",
              "      <td>0.180449</td>\n",
              "      <td>-0.062704</td>\n",
              "      <td>0.259737</td>\n",
              "      <td>-0.087027</td>\n",
              "      <td>-0.309974</td>\n",
              "      <td>-0.049800</td>\n",
              "      <td>-0.104812</td>\n",
              "      <td>0.135486</td>\n",
              "      <td>0.003811</td>\n",
              "      <td>0.281578</td>\n",
              "      <td>-0.281578</td>\n",
              "    </tr>\n",
              "    <tr>\n",
              "      <th>curb-weight</th>\n",
              "      <td>-0.233118</td>\n",
              "      <td>0.099404</td>\n",
              "      <td>0.782097</td>\n",
              "      <td>0.880665</td>\n",
              "      <td>0.866201</td>\n",
              "      <td>0.307581</td>\n",
              "      <td>1.000000</td>\n",
              "      <td>0.849072</td>\n",
              "      <td>0.644060</td>\n",
              "      <td>0.167562</td>\n",
              "      <td>0.156433</td>\n",
              "      <td>0.757976</td>\n",
              "      <td>-0.279361</td>\n",
              "      <td>-0.749543</td>\n",
              "      <td>-0.794889</td>\n",
              "      <td>0.834415</td>\n",
              "      <td>0.785353</td>\n",
              "      <td>0.221046</td>\n",
              "      <td>-0.221046</td>\n",
              "    </tr>\n",
              "    <tr>\n",
              "      <th>engine-size</th>\n",
              "      <td>-0.110581</td>\n",
              "      <td>0.112360</td>\n",
              "      <td>0.572027</td>\n",
              "      <td>0.685025</td>\n",
              "      <td>0.729436</td>\n",
              "      <td>0.074694</td>\n",
              "      <td>0.849072</td>\n",
              "      <td>1.000000</td>\n",
              "      <td>0.572609</td>\n",
              "      <td>0.209523</td>\n",
              "      <td>0.028889</td>\n",
              "      <td>0.822676</td>\n",
              "      <td>-0.256733</td>\n",
              "      <td>-0.650546</td>\n",
              "      <td>-0.679571</td>\n",
              "      <td>0.872335</td>\n",
              "      <td>0.745059</td>\n",
              "      <td>0.070779</td>\n",
              "      <td>-0.070779</td>\n",
              "    </tr>\n",
              "    <tr>\n",
              "      <th>bore</th>\n",
              "      <td>-0.140019</td>\n",
              "      <td>-0.029862</td>\n",
              "      <td>0.493244</td>\n",
              "      <td>0.608971</td>\n",
              "      <td>0.544885</td>\n",
              "      <td>0.180449</td>\n",
              "      <td>0.644060</td>\n",
              "      <td>0.572609</td>\n",
              "      <td>1.000000</td>\n",
              "      <td>-0.055390</td>\n",
              "      <td>0.001263</td>\n",
              "      <td>0.566936</td>\n",
              "      <td>-0.267392</td>\n",
              "      <td>-0.582027</td>\n",
              "      <td>-0.591309</td>\n",
              "      <td>0.543155</td>\n",
              "      <td>0.554610</td>\n",
              "      <td>0.054458</td>\n",
              "      <td>-0.054458</td>\n",
              "    </tr>\n",
              "    <tr>\n",
              "      <th>stroke</th>\n",
              "      <td>-0.008245</td>\n",
              "      <td>0.055563</td>\n",
              "      <td>0.158502</td>\n",
              "      <td>0.124139</td>\n",
              "      <td>0.188829</td>\n",
              "      <td>-0.062704</td>\n",
              "      <td>0.167562</td>\n",
              "      <td>0.209523</td>\n",
              "      <td>-0.055390</td>\n",
              "      <td>1.000000</td>\n",
              "      <td>0.187923</td>\n",
              "      <td>0.098462</td>\n",
              "      <td>-0.065713</td>\n",
              "      <td>-0.034696</td>\n",
              "      <td>-0.035201</td>\n",
              "      <td>0.082310</td>\n",
              "      <td>0.037300</td>\n",
              "      <td>0.241303</td>\n",
              "      <td>-0.241303</td>\n",
              "    </tr>\n",
              "    <tr>\n",
              "      <th>compression-ratio</th>\n",
              "      <td>-0.182196</td>\n",
              "      <td>-0.114713</td>\n",
              "      <td>0.250313</td>\n",
              "      <td>0.159733</td>\n",
              "      <td>0.189867</td>\n",
              "      <td>0.259737</td>\n",
              "      <td>0.156433</td>\n",
              "      <td>0.028889</td>\n",
              "      <td>0.001263</td>\n",
              "      <td>0.187923</td>\n",
              "      <td>1.000000</td>\n",
              "      <td>-0.214514</td>\n",
              "      <td>-0.435780</td>\n",
              "      <td>0.331425</td>\n",
              "      <td>0.268465</td>\n",
              "      <td>0.071107</td>\n",
              "      <td>-0.299372</td>\n",
              "      <td>0.985231</td>\n",
              "      <td>-0.985231</td>\n",
              "    </tr>\n",
              "    <tr>\n",
              "      <th>horsepower</th>\n",
              "      <td>0.075819</td>\n",
              "      <td>0.217299</td>\n",
              "      <td>0.371147</td>\n",
              "      <td>0.579821</td>\n",
              "      <td>0.615077</td>\n",
              "      <td>-0.087027</td>\n",
              "      <td>0.757976</td>\n",
              "      <td>0.822676</td>\n",
              "      <td>0.566936</td>\n",
              "      <td>0.098462</td>\n",
              "      <td>-0.214514</td>\n",
              "      <td>1.000000</td>\n",
              "      <td>0.107885</td>\n",
              "      <td>-0.822214</td>\n",
              "      <td>-0.804575</td>\n",
              "      <td>0.809575</td>\n",
              "      <td>0.889488</td>\n",
              "      <td>-0.169053</td>\n",
              "      <td>0.169053</td>\n",
              "    </tr>\n",
              "    <tr>\n",
              "      <th>peak-rpm</th>\n",
              "      <td>0.279740</td>\n",
              "      <td>0.239543</td>\n",
              "      <td>-0.360305</td>\n",
              "      <td>-0.285970</td>\n",
              "      <td>-0.245800</td>\n",
              "      <td>-0.309974</td>\n",
              "      <td>-0.279361</td>\n",
              "      <td>-0.256733</td>\n",
              "      <td>-0.267392</td>\n",
              "      <td>-0.065713</td>\n",
              "      <td>-0.435780</td>\n",
              "      <td>0.107885</td>\n",
              "      <td>1.000000</td>\n",
              "      <td>-0.115413</td>\n",
              "      <td>-0.058598</td>\n",
              "      <td>-0.101616</td>\n",
              "      <td>0.115830</td>\n",
              "      <td>-0.475812</td>\n",
              "      <td>0.475812</td>\n",
              "    </tr>\n",
              "    <tr>\n",
              "      <th>city-mpg</th>\n",
              "      <td>-0.035527</td>\n",
              "      <td>-0.225016</td>\n",
              "      <td>-0.470606</td>\n",
              "      <td>-0.665192</td>\n",
              "      <td>-0.633531</td>\n",
              "      <td>-0.049800</td>\n",
              "      <td>-0.749543</td>\n",
              "      <td>-0.650546</td>\n",
              "      <td>-0.582027</td>\n",
              "      <td>-0.034696</td>\n",
              "      <td>0.331425</td>\n",
              "      <td>-0.822214</td>\n",
              "      <td>-0.115413</td>\n",
              "      <td>1.000000</td>\n",
              "      <td>0.972044</td>\n",
              "      <td>-0.686571</td>\n",
              "      <td>-0.949713</td>\n",
              "      <td>0.265676</td>\n",
              "      <td>-0.265676</td>\n",
              "    </tr>\n",
              "    <tr>\n",
              "      <th>highway-mpg</th>\n",
              "      <td>0.036233</td>\n",
              "      <td>-0.181877</td>\n",
              "      <td>-0.543304</td>\n",
              "      <td>-0.698142</td>\n",
              "      <td>-0.680635</td>\n",
              "      <td>-0.104812</td>\n",
              "      <td>-0.794889</td>\n",
              "      <td>-0.679571</td>\n",
              "      <td>-0.591309</td>\n",
              "      <td>-0.035201</td>\n",
              "      <td>0.268465</td>\n",
              "      <td>-0.804575</td>\n",
              "      <td>-0.058598</td>\n",
              "      <td>0.972044</td>\n",
              "      <td>1.000000</td>\n",
              "      <td>-0.704692</td>\n",
              "      <td>-0.930028</td>\n",
              "      <td>0.198690</td>\n",
              "      <td>-0.198690</td>\n",
              "    </tr>\n",
              "    <tr>\n",
              "      <th>price</th>\n",
              "      <td>-0.082391</td>\n",
              "      <td>0.133999</td>\n",
              "      <td>0.584642</td>\n",
              "      <td>0.690628</td>\n",
              "      <td>0.751265</td>\n",
              "      <td>0.135486</td>\n",
              "      <td>0.834415</td>\n",
              "      <td>0.872335</td>\n",
              "      <td>0.543155</td>\n",
              "      <td>0.082310</td>\n",
              "      <td>0.071107</td>\n",
              "      <td>0.809575</td>\n",
              "      <td>-0.101616</td>\n",
              "      <td>-0.686571</td>\n",
              "      <td>-0.704692</td>\n",
              "      <td>1.000000</td>\n",
              "      <td>0.789898</td>\n",
              "      <td>0.110326</td>\n",
              "      <td>-0.110326</td>\n",
              "    </tr>\n",
              "    <tr>\n",
              "      <th>city-L/100km</th>\n",
              "      <td>0.066171</td>\n",
              "      <td>0.238567</td>\n",
              "      <td>0.476153</td>\n",
              "      <td>0.657373</td>\n",
              "      <td>0.673363</td>\n",
              "      <td>0.003811</td>\n",
              "      <td>0.785353</td>\n",
              "      <td>0.745059</td>\n",
              "      <td>0.554610</td>\n",
              "      <td>0.037300</td>\n",
              "      <td>-0.299372</td>\n",
              "      <td>0.889488</td>\n",
              "      <td>0.115830</td>\n",
              "      <td>-0.949713</td>\n",
              "      <td>-0.930028</td>\n",
              "      <td>0.789898</td>\n",
              "      <td>1.000000</td>\n",
              "      <td>-0.241282</td>\n",
              "      <td>0.241282</td>\n",
              "    </tr>\n",
              "    <tr>\n",
              "      <th>diesel</th>\n",
              "      <td>-0.196735</td>\n",
              "      <td>-0.101546</td>\n",
              "      <td>0.307237</td>\n",
              "      <td>0.211187</td>\n",
              "      <td>0.244356</td>\n",
              "      <td>0.281578</td>\n",
              "      <td>0.221046</td>\n",
              "      <td>0.070779</td>\n",
              "      <td>0.054458</td>\n",
              "      <td>0.241303</td>\n",
              "      <td>0.985231</td>\n",
              "      <td>-0.169053</td>\n",
              "      <td>-0.475812</td>\n",
              "      <td>0.265676</td>\n",
              "      <td>0.198690</td>\n",
              "      <td>0.110326</td>\n",
              "      <td>-0.241282</td>\n",
              "      <td>1.000000</td>\n",
              "      <td>-1.000000</td>\n",
              "    </tr>\n",
              "    <tr>\n",
              "      <th>gas</th>\n",
              "      <td>0.196735</td>\n",
              "      <td>0.101546</td>\n",
              "      <td>-0.307237</td>\n",
              "      <td>-0.211187</td>\n",
              "      <td>-0.244356</td>\n",
              "      <td>-0.281578</td>\n",
              "      <td>-0.221046</td>\n",
              "      <td>-0.070779</td>\n",
              "      <td>-0.054458</td>\n",
              "      <td>-0.241303</td>\n",
              "      <td>-0.985231</td>\n",
              "      <td>0.169053</td>\n",
              "      <td>0.475812</td>\n",
              "      <td>-0.265676</td>\n",
              "      <td>-0.198690</td>\n",
              "      <td>-0.110326</td>\n",
              "      <td>0.241282</td>\n",
              "      <td>-1.000000</td>\n",
              "      <td>1.000000</td>\n",
              "    </tr>\n",
              "  </tbody>\n",
              "</table>\n",
              "</div>"
            ],
            "text/plain": [
              "                   symboling  normalized-losses  ...    diesel       gas\n",
              "symboling           1.000000           0.466264  ... -0.196735  0.196735\n",
              "normalized-losses   0.466264           1.000000  ... -0.101546  0.101546\n",
              "wheel-base         -0.535987          -0.056661  ...  0.307237 -0.307237\n",
              "length             -0.365404           0.019424  ...  0.211187 -0.211187\n",
              "width              -0.242423           0.086802  ...  0.244356 -0.244356\n",
              "height             -0.550160          -0.373737  ...  0.281578 -0.281578\n",
              "curb-weight        -0.233118           0.099404  ...  0.221046 -0.221046\n",
              "engine-size        -0.110581           0.112360  ...  0.070779 -0.070779\n",
              "bore               -0.140019          -0.029862  ...  0.054458 -0.054458\n",
              "stroke             -0.008245           0.055563  ...  0.241303 -0.241303\n",
              "compression-ratio  -0.182196          -0.114713  ...  0.985231 -0.985231\n",
              "horsepower          0.075819           0.217299  ... -0.169053  0.169053\n",
              "peak-rpm            0.279740           0.239543  ... -0.475812  0.475812\n",
              "city-mpg           -0.035527          -0.225016  ...  0.265676 -0.265676\n",
              "highway-mpg         0.036233          -0.181877  ...  0.198690 -0.198690\n",
              "price              -0.082391           0.133999  ...  0.110326 -0.110326\n",
              "city-L/100km        0.066171           0.238567  ... -0.241282  0.241282\n",
              "diesel             -0.196735          -0.101546  ...  1.000000 -1.000000\n",
              "gas                 0.196735           0.101546  ... -1.000000  1.000000\n",
              "\n",
              "[19 rows x 19 columns]"
            ]
          },
          "metadata": {},
          "execution_count": 38
        }
      ]
    },
    {
      "cell_type": "code",
      "metadata": {
        "id": "8TvufqIgp5sq"
      },
      "source": [
        "from scipy import stats"
      ],
      "execution_count": 39,
      "outputs": []
    },
    {
      "cell_type": "markdown",
      "metadata": {
        "id": "zygIKugZp5sq"
      },
      "source": [
        "<h3>Wheel-Base vs. Price</h3>\n"
      ]
    },
    {
      "cell_type": "code",
      "metadata": {
        "id": "YTnGParSp5sq",
        "colab": {
          "base_uri": "https://localhost:8080/"
        },
        "outputId": "35f0f114-c58f-4484-9d34-e279d1443738"
      },
      "source": [
        "pearson_coef, p_value = stats.pearsonr(df['wheel-base'], df['price'])\n",
        "print(\"The Pearson Correlation Coefficient is\", pearson_coef, \" with a P-value of P =\", p_value)  "
      ],
      "execution_count": 40,
      "outputs": [
        {
          "output_type": "stream",
          "name": "stdout",
          "text": [
            "The Pearson Correlation Coefficient is 0.584641822265508  with a P-value of P = 8.076488270733218e-20\n"
          ]
        }
      ]
    },
    {
      "cell_type": "markdown",
      "metadata": {
        "id": "NB_Ve0Tzp5sq"
      },
      "source": [
        "<h4>Conclusion:</h4>\n",
        "<p>Since the p-value is $<$ 0.001, the correlation between wheel-base and price is statistically significant, although the linear relationship isn't extremely strong (~0.585).</p>\n"
      ]
    },
    {
      "cell_type": "markdown",
      "metadata": {
        "id": "1qdTAUUMp5sq"
      },
      "source": [
        "<h3>Horsepower vs. Price</h3>\n"
      ]
    },
    {
      "cell_type": "code",
      "metadata": {
        "id": "FvHJcOE3p5sq",
        "colab": {
          "base_uri": "https://localhost:8080/"
        },
        "outputId": "5cb5d3e4-dbdf-4006-b230-fe96197c8965"
      },
      "source": [
        "pearson_coef, p_value = stats.pearsonr(df['horsepower'], df['price'])\n",
        "print(\"The Pearson Correlation Coefficient is\", pearson_coef, \" with a P-value of P = \", p_value) \n",
        "\n",
        "if p_value<0.001:\n",
        "    print(\"correlation is strong\")\n",
        "elif p_value<0.05:\n",
        "    print(\"correlation is moderate\")\n",
        "elif p_value<0.1:\n",
        "    print(\"correlation is weak\")\n",
        "else:\n",
        "    print(\"no correlation\")"
      ],
      "execution_count": 41,
      "outputs": [
        {
          "output_type": "stream",
          "name": "stdout",
          "text": [
            "The Pearson Correlation Coefficient is 0.8095745670036559  with a P-value of P =  6.369057428260101e-48\n",
            "correlation is strong\n"
          ]
        }
      ]
    },
    {
      "cell_type": "markdown",
      "metadata": {
        "id": "sneVvbO-p5sr"
      },
      "source": [
        "<h3>Length vs. Price</h3>\n",
        "\n",
        "Let's calculate the  Pearson Correlation Coefficient and P-value of 'length' and 'price'.\n"
      ]
    },
    {
      "cell_type": "code",
      "metadata": {
        "id": "TDQLwkEtp5sr",
        "colab": {
          "base_uri": "https://localhost:8080/"
        },
        "outputId": "961ab86b-c29e-494f-bf0d-c0b1c70c9bc3"
      },
      "source": [
        "pearson_coef, p_value = stats.pearsonr(df['length'], df['price'])\n",
        "print(\"The Pearson Correlation Coefficient is\", pearson_coef, \" with a P-value of P = \", p_value) \n",
        "\n",
        "if p_value<0.001:\n",
        "    print(\"correlation is strong\")\n",
        "elif p_value<0.05:\n",
        "    print(\"correlation is moderate\")\n",
        "elif p_value<0.1:\n",
        "    print(\"correlation is weak\")\n",
        "else:\n",
        "    print(\"no correlation\")"
      ],
      "execution_count": 42,
      "outputs": [
        {
          "output_type": "stream",
          "name": "stdout",
          "text": [
            "The Pearson Correlation Coefficient is 0.6906283804483638  with a P-value of P =  8.016477466159556e-30\n",
            "correlation is strong\n"
          ]
        }
      ]
    },
    {
      "cell_type": "markdown",
      "metadata": {
        "id": "z1t903sep5sr"
      },
      "source": [
        "<h3>Width vs. Price</h3>\n"
      ]
    },
    {
      "cell_type": "code",
      "metadata": {
        "id": "XYjnM34wp5sr",
        "colab": {
          "base_uri": "https://localhost:8080/"
        },
        "outputId": "ee09876a-5d40-49f8-a280-6745fdef09c3"
      },
      "source": [
        "pearson_coef, p_value = stats.pearsonr(df['width'], df['price'])\n",
        "print(\"The Pearson Correlation Coefficient is\", pearson_coef, \" with a P-value of P =\", p_value ) \n",
        "\n",
        "if p_value<0.001:\n",
        "    print(\"correlation is strong\")\n",
        "elif p_value<0.05:\n",
        "    print(\"correlation is moderate\")\n",
        "elif p_value<0.1:\n",
        "    print(\"correlation is weak\")\n",
        "else:\n",
        "    print(\"no correlation\")"
      ],
      "execution_count": 43,
      "outputs": [
        {
          "output_type": "stream",
          "name": "stdout",
          "text": [
            "The Pearson Correlation Coefficient is 0.7512653440522674  with a P-value of P = 9.200335510481516e-38\n",
            "correlation is strong\n"
          ]
        }
      ]
    },
    {
      "cell_type": "markdown",
      "metadata": {
        "id": "Ii6pLwfjp5sr"
      },
      "source": [
        "### Curb-Weight vs. Price\n"
      ]
    },
    {
      "cell_type": "markdown",
      "metadata": {
        "id": "KmEEt0Kbp5sr"
      },
      "source": [
        "Let's calculate the Pearson Correlation Coefficient and P-value of 'curb-weight' and 'price':\n"
      ]
    },
    {
      "cell_type": "code",
      "metadata": {
        "id": "WQSXT475p5sr",
        "colab": {
          "base_uri": "https://localhost:8080/"
        },
        "outputId": "b959d38d-1a31-4968-9734-eea66e34eb7a"
      },
      "source": [
        "pearson_coef, p_value = stats.pearsonr(df['curb-weight'], df['price'])\n",
        "print( \"The Pearson Correlation Coefficient is\", pearson_coef, \" with a P-value of P = \", p_value) \n",
        "\n",
        "if p_value<0.001:\n",
        "    print(\"correlation is strong\")\n",
        "elif p_value<0.05:\n",
        "    print(\"correlation is moderate\")\n",
        "elif p_value<0.1:\n",
        "    print(\"correlation is weak\")\n",
        "else:\n",
        "    print(\"no correlation\")"
      ],
      "execution_count": 44,
      "outputs": [
        {
          "output_type": "stream",
          "name": "stdout",
          "text": [
            "The Pearson Correlation Coefficient is 0.8344145257702843  with a P-value of P =  2.189577238894065e-53\n",
            "correlation is strong\n"
          ]
        }
      ]
    },
    {
      "cell_type": "markdown",
      "metadata": {
        "id": "uVcO_CFep5sr"
      },
      "source": [
        "<h3>Engine-Size vs. Price</h3>\n",
        "\n",
        "Let's calculate the Pearson Correlation Coefficient and P-value of 'engine-size' and 'price':\n"
      ]
    },
    {
      "cell_type": "code",
      "metadata": {
        "id": "fCTkCJBUp5sr",
        "colab": {
          "base_uri": "https://localhost:8080/"
        },
        "outputId": "37b8fc5a-ae15-4b99-aeb7-7fe22f10f8f3"
      },
      "source": [
        "pearson_coef, p_value = stats.pearsonr(df['engine-size'], df['price'])\n",
        "print(\"The Pearson Correlation Coefficient is\", pearson_coef, \" with a P-value of P =\", p_value) \n",
        "\n",
        "if p_value<0.001:\n",
        "    print(\"correlation is strong\")\n",
        "elif p_value<0.05:\n",
        "    print(\"correlation is moderate\")\n",
        "elif p_value<0.1:\n",
        "    print(\"correlation is weak\")\n",
        "else:\n",
        "    print(\"no correlation\")"
      ],
      "execution_count": 45,
      "outputs": [
        {
          "output_type": "stream",
          "name": "stdout",
          "text": [
            "The Pearson Correlation Coefficient is 0.8723351674455185  with a P-value of P = 9.265491622198389e-64\n",
            "correlation is strong\n"
          ]
        }
      ]
    },
    {
      "cell_type": "markdown",
      "metadata": {
        "id": "J8ustok5p5ss"
      },
      "source": [
        "<h3>Bore vs. Price</h3>\n"
      ]
    },
    {
      "cell_type": "markdown",
      "metadata": {
        "id": "8L8-82Odp5ss"
      },
      "source": [
        "Let's calculate the  Pearson Correlation Coefficient and P-value of 'bore' and 'price':\n"
      ]
    },
    {
      "cell_type": "code",
      "metadata": {
        "id": "gxc3KhbHp5ss",
        "colab": {
          "base_uri": "https://localhost:8080/"
        },
        "outputId": "3e3340b1-f323-4cb6-b776-5a085758f435"
      },
      "source": [
        "pearson_coef, p_value = stats.pearsonr(df['bore'], df['price'])\n",
        "print(\"The Pearson Correlation Coefficient is\", pearson_coef, \" with a P-value of P =  \", p_value ) \n",
        "\n",
        "if p_value<0.001:\n",
        "    print(\"correlation is strong\")\n",
        "elif p_value<0.05:\n",
        "    print(\"correlation is moderate\")\n",
        "elif p_value<0.1:\n",
        "    print(\"correlation is weak\")\n",
        "else:\n",
        "    print(\"no correlation\")"
      ],
      "execution_count": 46,
      "outputs": [
        {
          "output_type": "stream",
          "name": "stdout",
          "text": [
            "The Pearson Correlation Coefficient is 0.5431553832626602  with a P-value of P =   8.049189483935489e-17\n",
            "correlation is strong\n"
          ]
        }
      ]
    },
    {
      "cell_type": "markdown",
      "metadata": {
        "id": "s4iZS7qVp5ss"
      },
      "source": [
        "<h3>City-mpg vs. Price</h3>\n"
      ]
    },
    {
      "cell_type": "code",
      "metadata": {
        "id": "K7mNS0m4p5ss",
        "colab": {
          "base_uri": "https://localhost:8080/"
        },
        "outputId": "e828f420-20e4-4a98-8166-05e73543a9f3"
      },
      "source": [
        "pearson_coef, p_value = stats.pearsonr(df['city-mpg'], df['price'])\n",
        "print(\"The Pearson Correlation Coefficient is\", pearson_coef, \" with a P-value of P = \", p_value)  \n",
        "\n",
        "if p_value<0.001:\n",
        "    print(\"correlation is strong\")\n",
        "elif p_value<0.05:\n",
        "    print(\"correlation is moderate\")\n",
        "elif p_value<0.1:\n",
        "    print(\"correlation is weak\")\n",
        "else:\n",
        "    print(\"no correlation\")"
      ],
      "execution_count": 47,
      "outputs": [
        {
          "output_type": "stream",
          "name": "stdout",
          "text": [
            "The Pearson Correlation Coefficient is -0.6865710067844677  with a P-value of P =  2.321132065567674e-29\n",
            "correlation is strong\n"
          ]
        }
      ]
    },
    {
      "cell_type": "markdown",
      "metadata": {
        "id": "dRJi0u-Bp5ss"
      },
      "source": [
        "<h3>Highway-mpg vs. Price</h3>\n"
      ]
    },
    {
      "cell_type": "code",
      "metadata": {
        "id": "C2GL7dkCp5ss",
        "colab": {
          "base_uri": "https://localhost:8080/"
        },
        "outputId": "76db675c-3f8e-4368-90f6-d3e8105d93ad"
      },
      "source": [
        "pearson_coef, p_value = stats.pearsonr(df['highway-mpg'], df['price'])\n",
        "print( \"The Pearson Correlation Coefficient is\", pearson_coef, \" with a P-value of P = \", p_value ) \n",
        "\n",
        "if p_value<0.001:\n",
        "    print(\"correlation is strong\")\n",
        "elif p_value<0.05:\n",
        "    print(\"correlation is moderate\")\n",
        "elif p_value<0.1:\n",
        "    print(\"correlation is weak\")\n",
        "else:\n",
        "    print(\"no correlation\")"
      ],
      "execution_count": 48,
      "outputs": [
        {
          "output_type": "stream",
          "name": "stdout",
          "text": [
            "The Pearson Correlation Coefficient is -0.704692265058953  with a P-value of P =  1.7495471144476358e-31\n",
            "correlation is strong\n"
          ]
        }
      ]
    },
    {
      "cell_type": "markdown",
      "metadata": {
        "id": "FbT-865ip5ss"
      },
      "source": [
        "<h2 id=\"anova\">6. ANOVA</h2>\n"
      ]
    },
    {
      "cell_type": "markdown",
      "metadata": {
        "id": "AK1Z8lGGp5ss"
      },
      "source": [
        "<h3>Drive Wheels</h3>\n"
      ]
    },
    {
      "cell_type": "code",
      "metadata": {
        "id": "Yk_nQlldp5ss",
        "colab": {
          "base_uri": "https://localhost:8080/",
          "height": 235
        },
        "outputId": "12e01fe9-b8d2-435d-e8df-8a39bcb2226e"
      },
      "source": [
        "grouped_test2=df_gptest[['drive-wheels', 'price']].groupby(['drive-wheels'])\n",
        "grouped_test2.head(2)"
      ],
      "execution_count": 49,
      "outputs": [
        {
          "output_type": "execute_result",
          "data": {
            "text/html": [
              "<div>\n",
              "<style scoped>\n",
              "    .dataframe tbody tr th:only-of-type {\n",
              "        vertical-align: middle;\n",
              "    }\n",
              "\n",
              "    .dataframe tbody tr th {\n",
              "        vertical-align: top;\n",
              "    }\n",
              "\n",
              "    .dataframe thead th {\n",
              "        text-align: right;\n",
              "    }\n",
              "</style>\n",
              "<table border=\"1\" class=\"dataframe\">\n",
              "  <thead>\n",
              "    <tr style=\"text-align: right;\">\n",
              "      <th></th>\n",
              "      <th>drive-wheels</th>\n",
              "      <th>price</th>\n",
              "    </tr>\n",
              "  </thead>\n",
              "  <tbody>\n",
              "    <tr>\n",
              "      <th>0</th>\n",
              "      <td>rwd</td>\n",
              "      <td>13495.0</td>\n",
              "    </tr>\n",
              "    <tr>\n",
              "      <th>1</th>\n",
              "      <td>rwd</td>\n",
              "      <td>16500.0</td>\n",
              "    </tr>\n",
              "    <tr>\n",
              "      <th>3</th>\n",
              "      <td>fwd</td>\n",
              "      <td>13950.0</td>\n",
              "    </tr>\n",
              "    <tr>\n",
              "      <th>4</th>\n",
              "      <td>4wd</td>\n",
              "      <td>17450.0</td>\n",
              "    </tr>\n",
              "    <tr>\n",
              "      <th>5</th>\n",
              "      <td>fwd</td>\n",
              "      <td>15250.0</td>\n",
              "    </tr>\n",
              "    <tr>\n",
              "      <th>136</th>\n",
              "      <td>4wd</td>\n",
              "      <td>7603.0</td>\n",
              "    </tr>\n",
              "  </tbody>\n",
              "</table>\n",
              "</div>"
            ],
            "text/plain": [
              "    drive-wheels    price\n",
              "0            rwd  13495.0\n",
              "1            rwd  16500.0\n",
              "3            fwd  13950.0\n",
              "4            4wd  17450.0\n",
              "5            fwd  15250.0\n",
              "136          4wd   7603.0"
            ]
          },
          "metadata": {},
          "execution_count": 49
        }
      ]
    },
    {
      "cell_type": "markdown",
      "metadata": {
        "id": "DVbxqboip5st"
      },
      "source": [
        "We can obtain the values of the method group using the method \"get_group\".\n"
      ]
    },
    {
      "cell_type": "code",
      "metadata": {
        "id": "btoYyj43p5st",
        "colab": {
          "base_uri": "https://localhost:8080/"
        },
        "outputId": "606f03ed-9b03-40c8-954d-02b865e0b4a9"
      },
      "source": [
        "grouped_test2.get_group('4wd')['price']"
      ],
      "execution_count": 51,
      "outputs": [
        {
          "output_type": "execute_result",
          "data": {
            "text/plain": [
              "4      17450.0\n",
              "136     7603.0\n",
              "140     9233.0\n",
              "141    11259.0\n",
              "144     8013.0\n",
              "145    11694.0\n",
              "150     7898.0\n",
              "151     8778.0\n",
              "Name: price, dtype: float64"
            ]
          },
          "metadata": {},
          "execution_count": 51
        }
      ]
    },
    {
      "cell_type": "code",
      "metadata": {
        "id": "UV31UAi1p5st",
        "colab": {
          "base_uri": "https://localhost:8080/"
        },
        "outputId": "4ee6b92d-2936-4fbf-fa94-9b2a6f1327e7"
      },
      "source": [
        "# ANOVA\n",
        "f_val, p_val = stats.f_oneway(grouped_test2.get_group('fwd')['price'], grouped_test2.get_group('rwd')['price'], grouped_test2.get_group('4wd')['price'])  \n",
        " \n",
        "print( \"ANOVA results: F=\", f_val, \", P =\", p_val)   "
      ],
      "execution_count": 52,
      "outputs": [
        {
          "output_type": "stream",
          "name": "stdout",
          "text": [
            "ANOVA results: F= 67.95406500780399 , P = 3.3945443577151245e-23\n"
          ]
        }
      ]
    },
    {
      "cell_type": "markdown",
      "metadata": {
        "id": "xlJgjpYRp5st"
      },
      "source": [
        "This is a great result with a large F-test score showing a strong correlation and a P-value of almost 0 implying almost certain statistical significance. But does this mean all three tested groups are all this highly correlated?\n",
        "\n",
        "Let's examine them separately.\n"
      ]
    },
    {
      "cell_type": "markdown",
      "metadata": {
        "id": "DXhCRnVxp5st"
      },
      "source": [
        "#### fwd and rwd\n"
      ]
    },
    {
      "cell_type": "code",
      "metadata": {
        "id": "V7MK-VH2p5st",
        "colab": {
          "base_uri": "https://localhost:8080/"
        },
        "outputId": "ce099fc6-aee9-42bc-99b1-f99fad7b1132"
      },
      "source": [
        "f_val, p_val = stats.f_oneway(grouped_test2.get_group('fwd')['price'], grouped_test2.get_group('rwd')['price'])  \n",
        " \n",
        "print( \"ANOVA results: F=\", f_val, \", P =\", p_val )"
      ],
      "execution_count": 53,
      "outputs": [
        {
          "output_type": "stream",
          "name": "stdout",
          "text": [
            "ANOVA results: F= 130.5533160959111 , P = 2.2355306355677845e-23\n"
          ]
        }
      ]
    },
    {
      "cell_type": "markdown",
      "metadata": {
        "id": "2x9ADJg1p5st"
      },
      "source": [
        "Let's examine the other groups.\n"
      ]
    },
    {
      "cell_type": "markdown",
      "metadata": {
        "id": "k0qBTWD8p5st"
      },
      "source": [
        "#### 4wd and rwd\n"
      ]
    },
    {
      "cell_type": "code",
      "metadata": {
        "scrolled": true,
        "id": "1UoYidSep5st",
        "colab": {
          "base_uri": "https://localhost:8080/"
        },
        "outputId": "11ad1874-d6de-4fac-d53a-2172ec2aa731"
      },
      "source": [
        "f_val, p_val = stats.f_oneway(grouped_test2.get_group('4wd')['price'], grouped_test2.get_group('rwd')['price'])  \n",
        "   \n",
        "print( \"ANOVA results: F=\", f_val, \", P =\", p_val)   "
      ],
      "execution_count": 54,
      "outputs": [
        {
          "output_type": "stream",
          "name": "stdout",
          "text": [
            "ANOVA results: F= 8.580681368924756 , P = 0.004411492211225333\n"
          ]
        }
      ]
    },
    {
      "cell_type": "markdown",
      "metadata": {
        "id": "tJaf4Lycp5st"
      },
      "source": [
        "<h4>4wd and fwd</h4>\n"
      ]
    },
    {
      "cell_type": "code",
      "metadata": {
        "id": "nY436h4Qp5st",
        "colab": {
          "base_uri": "https://localhost:8080/"
        },
        "outputId": "287e9689-8f05-41c7-da4e-e2025965072b"
      },
      "source": [
        "f_val, p_val = stats.f_oneway(grouped_test2.get_group('4wd')['price'], grouped_test2.get_group('fwd')['price'])  \n",
        " \n",
        "print(\"ANOVA results: F=\", f_val, \", P =\", p_val)   "
      ],
      "execution_count": 55,
      "outputs": [
        {
          "output_type": "stream",
          "name": "stdout",
          "text": [
            "ANOVA results: F= 0.665465750252303 , P = 0.41620116697845666\n"
          ]
        }
      ]
    },
    {
      "cell_type": "markdown",
      "metadata": {
        "id": "OhcpYJCZp5su"
      },
      "source": [
        "<h3>Conclusion: Important Variables</h3>\n"
      ]
    },
    {
      "cell_type": "markdown",
      "metadata": {
        "id": "T-HiAURYp5sx"
      },
      "source": [
        "<p>We now have a better idea of what our data looks like and which variables are important to take into account when predicting the car price. We have narrowed it down to the following variables:</p>\n",
        "\n",
        "Continuous numerical variables:\n",
        "\n",
        "<ul>\n",
        "    <li>Length</li>\n",
        "    <li>Width</li>\n",
        "    <li>Curb-weight</li>\n",
        "    <li>Engine-size</li>\n",
        "    <li>Horsepower</li>\n",
        "    <li>City-mpg</li>\n",
        "    <li>Highway-mpg</li>\n",
        "    <li>Wheel-base</li>\n",
        "    <li>Bore</li>\n",
        "</ul>\n",
        "\n",
        "Categorical variables:\n",
        "\n",
        "<ul>\n",
        "    <li>Drive-wheels</li>\n",
        "</ul>\n",
        "\n",
        "<p>As we now move into building machine learning models to automate our analysis, feeding the model with variables that meaningfully affect our target variable will improve our model's prediction performance.</p>\n"
      ]
    }
  ]
}